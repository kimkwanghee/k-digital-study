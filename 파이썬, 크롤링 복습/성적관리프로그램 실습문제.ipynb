{
 "cells": [
  {
   "cell_type": "code",
   "execution_count": 2,
   "metadata": {
    "scrolled": true
   },
   "outputs": [
    {
     "name": "stdout",
     "output_type": "stream",
     "text": [
      "80 [10, 20]\n",
      "81 [30, 40]\n",
      "82 [50, 60]\n"
     ]
    }
   ],
   "source": [
    "a=[[10,20],[30,40],[50,60]]\n",
    "\n",
    "\n",
    "# changing index and printing separately \n",
    "\n",
    "for i, val in enumerate(a, 80):\n",
    "    print(i, val)"
   ]
  },
  {
   "cell_type": "code",
   "execution_count": 3,
   "metadata": {},
   "outputs": [
    {
     "name": "stdout",
     "output_type": "stream",
     "text": [
      "0 0 10\n",
      "0 1 20\n",
      "1 0 30\n",
      "1 1 40\n",
      "2 0 50\n",
      "2 1 60\n"
     ]
    }
   ],
   "source": [
    "for i, val in enumerate(a):     #\n",
    "    for j, val2 in enumerate(val):\n",
    "        print(i, j, val2)"
   ]
  },
  {
   "cell_type": "code",
   "execution_count": 4,
   "metadata": {},
   "outputs": [
    {
     "name": "stdout",
     "output_type": "stream",
     "text": [
      "(0, [10, 20])\n",
      "(1, [30, 40])\n",
      "(2, [50, 60])\n"
     ]
    }
   ],
   "source": [
    "#printing tuples in object directly\n",
    "\n",
    "for i in enumerate(a): \n",
    "    print(i)"
   ]
  },
  {
   "cell_type": "code",
   "execution_count": 5,
   "metadata": {},
   "outputs": [
    {
     "name": "stdout",
     "output_type": "stream",
     "text": [
      "[(0, {'이름': '다람쥐', '수학': 100, '과학': 20, '영어': 80}), (1, {'이름': '개나리', '수학': 50, '과학': 90, '영어': 100})]\n",
      "[0] 이름: 다람쥐, 수학: 100, 과학: 20, 영어: 80\n",
      "[1] 이름: 개나리, 수학: 50, 과학: 90, 영어: 100\n"
     ]
    }
   ],
   "source": [
    "grate_test=[{\"이름\":\"다람쥐\", \"수학\":100, \"과학\":20, \"영어\":80}, {\"이름\":\"개나리\", \"수학\":50, \"과학\":90, \"영어\":100} ]\n",
    "\n",
    "print(list(enumerate(grate_test)))\n",
    "\n",
    "\n",
    "for i, user in enumerate(grate_test):\n",
    "            print(f\"[{i}] 이름: {user['이름']}, 수학: {user['수학']}, 과학: {user['과학']}, 영어: {user['영어']}\")\n",
    "   "
   ]
  },
  {
   "cell_type": "code",
   "execution_count": 6,
   "metadata": {},
   "outputs": [
    {
     "ename": "NameError",
     "evalue": "name 'b' is not defined",
     "output_type": "error",
     "traceback": [
      "\u001b[0;31m---------------------------------------------------------------------------\u001b[0m",
      "\u001b[0;31mNameError\u001b[0m                                 Traceback (most recent call last)",
      "\u001b[0;32m<ipython-input-6-f62724980387>\u001b[0m in \u001b[0;36m<module>\u001b[0;34m\u001b[0m\n\u001b[0;32m----> 1\u001b[0;31m \u001b[0;32mfor\u001b[0m \u001b[0mi\u001b[0m\u001b[0;34m,\u001b[0m  \u001b[0mvalue\u001b[0m \u001b[0;32min\u001b[0m \u001b[0menumerate\u001b[0m\u001b[0;34m(\u001b[0m\u001b[0mb\u001b[0m\u001b[0;34m)\u001b[0m\u001b[0;34m:\u001b[0m\u001b[0;34m\u001b[0m\u001b[0;34m\u001b[0m\u001b[0m\n\u001b[0m\u001b[1;32m      2\u001b[0m     \u001b[0mprint\u001b[0m\u001b[0;34m(\u001b[0m\u001b[0;34m\"이름:\"\u001b[0m\u001b[0;34m,\u001b[0m \u001b[0mname\u001b[0m\u001b[0;34m,\u001b[0m \u001b[0;34m\"수학:\"\u001b[0m\u001b[0;34m,\u001b[0m \u001b[0mmath\u001b[0m\u001b[0;34m,\u001b[0m \u001b[0;34m\"과학:\"\u001b[0m\u001b[0;34m,\u001b[0m \u001b[0mscience\u001b[0m\u001b[0;34m,\u001b[0m \u001b[0;34m\"영어: \"\u001b[0m\u001b[0;34m,\u001b[0m \u001b[0menglish\u001b[0m\u001b[0;34m)\u001b[0m\u001b[0;34m\u001b[0m\u001b[0;34m\u001b[0m\u001b[0m\n",
      "\u001b[0;31mNameError\u001b[0m: name 'b' is not defined"
     ]
    }
   ],
   "source": [
    "            \n",
    "for i,  value in enumerate(b):\n",
    "    print(\"이름:\", name, \"수학:\", math, \"과학:\", science, \"영어: \", english)"
   ]
  },
  {
   "cell_type": "code",
   "execution_count": null,
   "metadata": {},
   "outputs": [],
   "source": [
    "grade=[]\n",
    "\n",
    "while True:\n",
    "    menu = input(\" 메뉴를 선택하세요 - 1. 입력 2.조회 3.삭제 0.종료: \")\n",
    "    \n",
    "    if menu == \"1\":\n",
    "        name = input(\"이름: \")\n",
    "        math = int(input(\"수학: \"))\n",
    "        science = int(input(\"과학: \"))\n",
    "        english = int(input(\"영어: \"))\n",
    "        \n",
    "        student={\"이름\":name, \"수학\":math, \"과학\":science, \"영어\": english}\n",
    "        grade.append(student)\n",
    "       \n",
    "        print(student)\n",
    "        \n",
    "    elif menu == \"2\":\n",
    "        for i, value in enumerate(grade):\n",
    "            print(f\"[{i}] 이름: {value['이름']}, 수학: {value['수학']}, 과학: {value['과학']}, 영어: {value['영어']}\")\n",
    "\n",
    "    \n",
    "    elif menu == \"3\":\n",
    "        \n",
    "        for i, value in enumerate(grade):\n",
    "            print(f\"[{i}] 이름: {value['이름']}, 수학: {value['수학']}, 과학: {value['과학']}, 영어: {value['영어']}\")\n",
    "            \n",
    "            \n",
    "        del_index = int(input(\"삭제할 번호를 입력해주세요: \"))\n",
    "        grade.pop(del_index)\n",
    "        print(\"삭제가 완료되었습니다.\")\n",
    "        \n",
    "        \n",
    "    elif menu == \"0\":\n",
    "        print(grade)\n",
    "        print(\"종료되었습니다.\")\n",
    "       \n",
    "        break\n",
    "    \n",
    "    "
   ]
  },
  {
   "cell_type": "code",
   "execution_count": null,
   "metadata": {},
   "outputs": [],
   "source": [
    "product ={\"brand\": \"Apple\",\"model\": \"iPhone12\",\"year\": 2020\n",
    "          }\n",
    "print(product)\n",
    "\n",
    "print (f'{product[\"brand\"]}s new {product[\"model\"]} came out in Q3 {product[\"year\"]}')"
   ]
  },
  {
   "cell_type": "code",
   "execution_count": null,
   "metadata": {},
   "outputs": [],
   "source": []
  },
  {
   "cell_type": "code",
   "execution_count": null,
   "metadata": {},
   "outputs": [],
   "source": [
    "total_grade = []\n",
    "\n",
    "while True:\n",
    "    menu = int(input(\"메뉴를 선택하세요: 1.입력 2.조회 3.삭제 0.종료: \"))\n",
    "    \n",
    "    if menu == 1:\n",
    "        name = input(\"이름: \")\n",
    "        math = int(input(\"수학: \"))\n",
    "        science = int(input(\"과학: \"))\n",
    "        english = int(input(\"영어: \"))\n",
    "        \n",
    "        #f-string사용시 이중 curly bracket{}사용되어 딕셔너리가 안됨: grade.append(f\"(이름: {name}, 수학: {math}, 과학: {science}, 영어: {english})\")\n",
    "        \n",
    "        total_grade.append({\"이름\":name, \"수학\":math, \"과학\":science, \"영어\":english})\n",
    "    \n",
    "        print(\"저장된 데이터:\" + str(total_grade))\n",
    "        \n",
    "    elif menu == 2:\n",
    "        \n",
    "        # 저장된 학생성적 데이터 + 저장순의 인덱스 볼 수 있음 \n",
    "        #[0] 이름: 에밀리, 수학: 100, 과학: 50, 영어: 60\n",
    "        #[1] 이름: 토마스, 수학: 70, 과학: 80, 영어: 30\n",
    "        #>>[i] key0:val0, key1:val1, key2:val2, key3:val3\n",
    "        #view=enumerate(total_grade,0)\n",
    "        #print(view)\n",
    "        #print(f\"[{i}] 이름: {total_grade['name']}\")\n",
    "        \n",
    "        for i, student in enumerate(total_grade):\n",
    "            #KeyError날 때, {[\"key\"]}인지 확인 Value를 출력하려면 key를 불러야함. 틀린 코드: print(f'[{i}] 이름: {student[\"name\"]}, 수학: {student[\"math\"]}, 과학: {student[\"science\"]}, 영어: {student[\"english\"]}')\n",
    "\n",
    "            print(f'[{i}] 이름: {student[\"이름\"]}, 수학: {student[\"수학\"]}, 과학: {student[\"과학\"]}, 영어: {student[\"영어\"]}')\n",
    "            \n",
    "        #for i, user in enumerate(total_grade):\n",
    "        #    print(f'[{i}] 이름: {student[\"이름\"]}, 수학: {student[\"수학\"]}, 과학: {student[\"과학\"]}, 영어: {student[\"영어\"]}')\n",
    "            #위의 코드는 메뉴==3 일때도 사용하니 function 만들기\n",
    "    elif menu == 3:\n",
    "        # 저장된 학생성적 데이터를 조회한뒤, 인덱스로 삭제할 데이터 선택. 삭제 뒤 업데이트된 전체 성적 보여줌\n",
    "        \n",
    "        for i, student in enumerate(total_grade):\n",
    "            print(f'[{i}] 이름: {student[\"이름\"]}, 수학: {student[\"수학\"]}, 과학: {student[\"과학\"]}, 영어: {student[\"영어\"]}')\n",
    "        \n",
    "        del_data = int(input(\"삭제할 번호를 입력해주세요: \"))\n",
    "        total_grade.pop(del_data)\n",
    "        \n",
    "        print(\"삭제가 완료되었습니다\")\n",
    "        print(total_grade)\n",
    "    \n",
    "    elif menu == 0:\n",
    "        print(\"종료되었습니다.\")\n",
    "        break"
   ]
  },
  {
   "cell_type": "markdown",
   "metadata": {},
   "source": [
    "#"
   ]
  },
  {
   "cell_type": "code",
   "execution_count": 2,
   "metadata": {},
   "outputs": [
    {
     "name": "stdout",
     "output_type": "stream",
     "text": [
      "메뉴를 선택하세요: 1.입력 2.조회 3.삭제 0.종료: 2\n"
     ]
    },
    {
     "ename": "KeyboardInterrupt",
     "evalue": "Interrupted by user",
     "output_type": "error",
     "traceback": [
      "\u001b[0;31m---------------------------------------------------------------------------\u001b[0m",
      "\u001b[0;31mKeyboardInterrupt\u001b[0m                         Traceback (most recent call last)",
      "\u001b[0;32m<ipython-input-2-6df4e2a83f39>\u001b[0m in \u001b[0;36m<module>\u001b[0;34m\u001b[0m\n\u001b[1;32m      5\u001b[0m \u001b[0;34m\u001b[0m\u001b[0m\n\u001b[1;32m      6\u001b[0m \u001b[0;32mwhile\u001b[0m \u001b[0;32mTrue\u001b[0m\u001b[0;34m:\u001b[0m\u001b[0;34m\u001b[0m\u001b[0;34m\u001b[0m\u001b[0m\n\u001b[0;32m----> 7\u001b[0;31m     \u001b[0mmenu\u001b[0m \u001b[0;34m=\u001b[0m \u001b[0mint\u001b[0m\u001b[0;34m(\u001b[0m\u001b[0minput\u001b[0m\u001b[0;34m(\u001b[0m\u001b[0;34m\"메뉴를 선택하세요: 1.입력 2.조회 3.삭제 0.종료: \"\u001b[0m\u001b[0;34m)\u001b[0m\u001b[0;34m)\u001b[0m\u001b[0;34m\u001b[0m\u001b[0;34m\u001b[0m\u001b[0m\n\u001b[0m\u001b[1;32m      8\u001b[0m \u001b[0;34m\u001b[0m\u001b[0m\n\u001b[1;32m      9\u001b[0m     \u001b[0;32mif\u001b[0m \u001b[0mmenu\u001b[0m \u001b[0;34m==\u001b[0m \u001b[0;36m1\u001b[0m\u001b[0;34m:\u001b[0m\u001b[0;34m\u001b[0m\u001b[0;34m\u001b[0m\u001b[0m\n",
      "\u001b[0;32m~/opt/anaconda3/lib/python3.8/site-packages/ipykernel/kernelbase.py\u001b[0m in \u001b[0;36mraw_input\u001b[0;34m(self, prompt)\u001b[0m\n\u001b[1;32m    858\u001b[0m                 \u001b[0;34m\"raw_input was called, but this frontend does not support input requests.\"\u001b[0m\u001b[0;34m\u001b[0m\u001b[0;34m\u001b[0m\u001b[0m\n\u001b[1;32m    859\u001b[0m             )\n\u001b[0;32m--> 860\u001b[0;31m         return self._input_request(str(prompt),\n\u001b[0m\u001b[1;32m    861\u001b[0m             \u001b[0mself\u001b[0m\u001b[0;34m.\u001b[0m\u001b[0m_parent_ident\u001b[0m\u001b[0;34m,\u001b[0m\u001b[0;34m\u001b[0m\u001b[0;34m\u001b[0m\u001b[0m\n\u001b[1;32m    862\u001b[0m             \u001b[0mself\u001b[0m\u001b[0;34m.\u001b[0m\u001b[0m_parent_header\u001b[0m\u001b[0;34m,\u001b[0m\u001b[0;34m\u001b[0m\u001b[0;34m\u001b[0m\u001b[0m\n",
      "\u001b[0;32m~/opt/anaconda3/lib/python3.8/site-packages/ipykernel/kernelbase.py\u001b[0m in \u001b[0;36m_input_request\u001b[0;34m(self, prompt, ident, parent, password)\u001b[0m\n\u001b[1;32m    902\u001b[0m             \u001b[0;32mexcept\u001b[0m \u001b[0mKeyboardInterrupt\u001b[0m\u001b[0;34m:\u001b[0m\u001b[0;34m\u001b[0m\u001b[0;34m\u001b[0m\u001b[0m\n\u001b[1;32m    903\u001b[0m                 \u001b[0;31m# re-raise KeyboardInterrupt, to truncate traceback\u001b[0m\u001b[0;34m\u001b[0m\u001b[0;34m\u001b[0m\u001b[0;34m\u001b[0m\u001b[0m\n\u001b[0;32m--> 904\u001b[0;31m                 \u001b[0;32mraise\u001b[0m \u001b[0mKeyboardInterrupt\u001b[0m\u001b[0;34m(\u001b[0m\u001b[0;34m\"Interrupted by user\"\u001b[0m\u001b[0;34m)\u001b[0m \u001b[0;32mfrom\u001b[0m \u001b[0;32mNone\u001b[0m\u001b[0;34m\u001b[0m\u001b[0;34m\u001b[0m\u001b[0m\n\u001b[0m\u001b[1;32m    905\u001b[0m             \u001b[0;32mexcept\u001b[0m \u001b[0mException\u001b[0m \u001b[0;32mas\u001b[0m \u001b[0me\u001b[0m\u001b[0;34m:\u001b[0m\u001b[0;34m\u001b[0m\u001b[0;34m\u001b[0m\u001b[0m\n\u001b[1;32m    906\u001b[0m                 \u001b[0mself\u001b[0m\u001b[0;34m.\u001b[0m\u001b[0mlog\u001b[0m\u001b[0;34m.\u001b[0m\u001b[0mwarning\u001b[0m\u001b[0;34m(\u001b[0m\u001b[0;34m\"Invalid Message:\"\u001b[0m\u001b[0;34m,\u001b[0m \u001b[0mexc_info\u001b[0m\u001b[0;34m=\u001b[0m\u001b[0;32mTrue\u001b[0m\u001b[0;34m)\u001b[0m\u001b[0;34m\u001b[0m\u001b[0;34m\u001b[0m\u001b[0m\n",
      "\u001b[0;31mKeyboardInterrupt\u001b[0m: Interrupted by user"
     ]
    }
   ],
   "source": [
    "\n",
    "import pickle\n",
    "\n",
    "\n",
    "total_scores = []\n",
    "\n",
    "while True:\n",
    "    menu = int(input(\"메뉴를 선택하세요: 1.입력 2.조회 3.삭제 0.종료: \"))\n",
    "    \n",
    "    if menu == 1:\n",
    "        name = input(\"이름: \")\n",
    "        math = int(input(\"수학: \"))\n",
    "        science = int(input(\"과학: \"))\n",
    "        english = int(input(\"영어: \"))\n",
    "                \n",
    "        total_scores.append({\"이름\":name, \"수학\":math, \"과학\":science, \"영어\":english})\n",
    "    \n",
    "        print(\"저장된 데이터:\" + str(total_scores))\n",
    "    \n",
    "        \n",
    "    elif menu == 2:\n",
    "        \n",
    "        for i, student in enumerate(total_scores):\n",
    "            print(f'[{i}] 이름: {student[\"이름\"]}, 수학: {student[\"수학\"]}, 과학: {student[\"과학\"]}, 영어: {student[\"영어\"]}')\n",
    "            \n",
    "\n",
    "    elif menu == 3:        \n",
    "        for i, student in enumerate(total_scores):\n",
    "            print(f'[{i}] 이름: {student[\"이름\"]}, 수학: {student[\"수학\"]}, 과학: {student[\"과학\"]}, 영어: {student[\"영어\"]}')\n",
    "        \n",
    "        del_data = int(input(\"삭제할 번호를 입력해주세요: \"))\n",
    "        total_scores.pop(del_data)\n",
    "        \n",
    "        print(\"삭제가 완료되었습니다\")\n",
    "        print(total_scores)\n",
    "        \n",
    "\n",
    "\n",
    "    \n",
    "    elif menu == 0:\n",
    "        with open(\"data.pkl\",\"wb\") as file:\n",
    "            pickle.dump(total_scores, file)\n",
    "        \n",
    "        print(\"종료되었습니다.\")\n",
    "        \n",
    "        break"
   ]
  },
  {
   "cell_type": "code",
   "execution_count": 1,
   "metadata": {},
   "outputs": [
    {
     "name": "stdout",
     "output_type": "stream",
     "text": [
      "[{'이름': '대한', '수학': 100, '과학': 400, '영어': 600}, {'이름': '민국', '수학': 0, '과학': 40, '영어': 60}, {'이름': '만세', '수학': 70, '과학': 90, '영어': 100}]\n"
     ]
    }
   ],
   "source": [
    "import pickle\n",
    "\n",
    "with open(\"data.pkl\",\"rb\") as file:\n",
    "    total_scores=pickle.load(file)\n",
    "    \n",
    "    print(total_scores)\n",
    "    \n",
    "# 새 창에서는 저장된 파일 로드하고 프린트 가능하지만 위 프로그램에서 조회:2 할 때  데이터가 불러오기 x    \n"
   ]
  },
  {
   "cell_type": "code",
   "execution_count": null,
   "metadata": {},
   "outputs": [],
   "source": []
  },
  {
   "cell_type": "code",
   "execution_count": 6,
   "metadata": {},
   "outputs": [
    {
     "name": "stdout",
     "output_type": "stream",
     "text": [
      "가위(1), 바위(2), 보(3) 을 입력해주세요 :1\n",
      "유저 : 가위, 컴퓨터 : 바위\n",
      "가위(1), 바위(2), 보(3) 을 입력해주세요 :2\n",
      "유저 : 바위, 컴퓨터 : 바위\n",
      "가위(1), 바위(2), 보(3) 을 입력해주세요 :3\n",
      "유저 : 보, 컴퓨터 : 바위\n",
      "가위(1), 바위(2), 보(3) 을 입력해주세요 :4\n",
      "게임종료 (전체:3 ,승리:1)\n"
     ]
    }
   ],
   "source": [
    "import random\n",
    "random.randint(1,3)\n",
    "\n",
    "\n",
    "game_dict = {1:\"가위\", 2:\"바위\", 3:\"보\"}\n",
    "total = 0\n",
    "win = 0\n",
    "user = 1\n",
    "computer = -1\n",
    "\n",
    "while user in [1, 2, 3]:\n",
    "    user = int(input(\"가위(1), 바위(2), 보(3) 을 입력해주세요 :\"))\n",
    "    computer = random.randint(1, 3)\n",
    "    \n",
    "    if user not in [1, 2, 3]:\n",
    "        break\n",
    "    \n",
    "    total += 1\n",
    "    print(f\"유저 : {game_dict[user]}, 컴퓨터 : {game_dict[computer]}\")\n",
    "    \n",
    "    if (user == 1 and computer == 3) or (user == 2 and computer == 1) or (user == 3 and computer == 2):\n",
    "        win += 1\n",
    "        \n",
    "        \n",
    "\n",
    "print(f\"게임종료 (전체:{total} ,승리:{win})\")"
   ]
  },
  {
   "cell_type": "code",
   "execution_count": 3,
   "metadata": {},
   "outputs": [],
   "source": [
    "import pickle\n",
    "\n",
    "total=3\n",
    "win=0 \n",
    "\n",
    "with open(\"game_rsp.pkl\",\"wb\") as file:\n",
    "    pickle.dump(total, file)\n",
    "    pickle.dump(win, file)"
   ]
  },
  {
   "cell_type": "code",
   "execution_count": 4,
   "metadata": {},
   "outputs": [
    {
     "name": "stdout",
     "output_type": "stream",
     "text": [
      "3 0\n"
     ]
    }
   ],
   "source": [
    "import pickle\n",
    "\n",
    "with open(\"game_rsp.pkl\", \"rb\") as file:\n",
    "    total_loaded=pickle.load(file)\n",
    "    win_loaded=pickle.load(file)\n",
    "\n",
    "print(total_loaded, win_loaded)\n"
   ]
  },
  {
   "cell_type": "code",
   "execution_count": 5,
   "metadata": {},
   "outputs": [
    {
     "name": "stdout",
     "output_type": "stream",
     "text": [
      "가위(1), 바위(2), 보(3) 을 입력해주세요 :1\n"
     ]
    },
    {
     "ename": "NameError",
     "evalue": "name 'game_dict' is not defined",
     "output_type": "error",
     "traceback": [
      "\u001b[0;31m---------------------------------------------------------------------------\u001b[0m",
      "\u001b[0;31mNameError\u001b[0m                                 Traceback (most recent call last)",
      "\u001b[0;32m<ipython-input-5-85f5c265e1b4>\u001b[0m in \u001b[0;36m<module>\u001b[0;34m\u001b[0m\n\u001b[1;32m     13\u001b[0m \u001b[0;34m\u001b[0m\u001b[0m\n\u001b[1;32m     14\u001b[0m     \u001b[0mtotal\u001b[0m \u001b[0;34m+=\u001b[0m \u001b[0;36m1\u001b[0m\u001b[0;34m\u001b[0m\u001b[0;34m\u001b[0m\u001b[0m\n\u001b[0;32m---> 15\u001b[0;31m     \u001b[0mprint\u001b[0m\u001b[0;34m(\u001b[0m\u001b[0;34mf\"유저 : {game_dict[user]}, 컴퓨터 : {game_dict[computer]}\"\u001b[0m\u001b[0;34m)\u001b[0m\u001b[0;34m\u001b[0m\u001b[0;34m\u001b[0m\u001b[0m\n\u001b[0m\u001b[1;32m     16\u001b[0m \u001b[0;34m\u001b[0m\u001b[0m\n\u001b[1;32m     17\u001b[0m     \u001b[0;32mif\u001b[0m \u001b[0;34m(\u001b[0m\u001b[0muser\u001b[0m \u001b[0;34m==\u001b[0m \u001b[0;36m1\u001b[0m \u001b[0;32mand\u001b[0m \u001b[0mcomputer\u001b[0m \u001b[0;34m==\u001b[0m \u001b[0;36m3\u001b[0m\u001b[0;34m)\u001b[0m \u001b[0;32mor\u001b[0m \u001b[0;34m(\u001b[0m\u001b[0muser\u001b[0m \u001b[0;34m==\u001b[0m \u001b[0;36m2\u001b[0m \u001b[0;32mand\u001b[0m \u001b[0mcomputer\u001b[0m \u001b[0;34m==\u001b[0m \u001b[0;36m1\u001b[0m\u001b[0;34m)\u001b[0m \u001b[0;32mor\u001b[0m \u001b[0;34m(\u001b[0m\u001b[0muser\u001b[0m \u001b[0;34m==\u001b[0m \u001b[0;36m3\u001b[0m \u001b[0;32mand\u001b[0m \u001b[0mcomputer\u001b[0m \u001b[0;34m==\u001b[0m \u001b[0;36m2\u001b[0m\u001b[0;34m)\u001b[0m\u001b[0;34m:\u001b[0m\u001b[0;34m\u001b[0m\u001b[0;34m\u001b[0m\u001b[0m\n",
      "\u001b[0;31mNameError\u001b[0m: name 'game_dict' is not defined"
     ]
    }
   ],
   "source": [
    "import random\n",
    "random.randint(1,3)\n",
    "\n",
    "user = 1\n",
    "computer = -1\n",
    "\n",
    "while user in [1, 2, 3]:\n",
    "    user = int(input(\"가위(1), 바위(2), 보(3) 을 입력해주세요 :\"))\n",
    "    computer = random.randint(1, 3)\n",
    "    \n",
    "    if user not in [1, 2, 3]:\n",
    "        break\n",
    "    \n",
    "    total += 1\n",
    "    print(f\"유저 : {game_dict[user]}, 컴퓨터 : {game_dict[computer]}\")\n",
    "    \n",
    "    if (user == 1 and computer == 3) or (user == 2 and computer == 1) or (user == 3 and computer == 2):\n",
    "        win += 1\n",
    "        \n",
    "        \n",
    "\n",
    "print(f\"게임종료 (전체:{total} ,승리:{win})\")"
   ]
  },
  {
   "cell_type": "code",
   "execution_count": null,
   "metadata": {},
   "outputs": [
    {
     "name": "stdout",
     "output_type": "stream",
     "text": [
      "select an option: 1.Enter 2.View 3.Delete 0.End: 2\n",
      "[0] Name: emily, Math:100, Science: 20, English: 60\n"
     ]
    }
   ],
   "source": [
    "import pickle\n",
    "with open(\"data.pkl\",\"rb\") as file:\n",
    "    total_scores=pickle.load(file)\n",
    "    \n",
    "    #total_scores = [] 을 넣으면 로드한 파일에 덮어쓰기되므로 삭제함\n",
    "while True:\n",
    "    menu = int(input(\"select an option: 1.Enter 2.View 3.Delete 0.End: \"))\n",
    "\n",
    "    if menu == 1:\n",
    "        student_name = input(\"name: \")\n",
    "        math_score = int(input(\"math: \"))\n",
    "        science_score = int(input(\"science: \"))\n",
    "        english_score = int(input(\"english: \"))\n",
    "                \n",
    "        total_scores.append({\"name\":student_name, \"math\":math_score, \"science\":science_score, \"english\":english_score})\n",
    "        \n",
    "        \n",
    "    elif menu == 2:\n",
    "        for i, student in enumerate(total_scores):\n",
    "            print(f'[{i}] Name: {student[\"name\"]}, Math:{student[\"math\"]}, Science: {student[\"science\"]}, English: {student[\"english\"]}')\n",
    "            \n",
    "\n",
    "    elif menu == 3:        \n",
    "        for i, student in enumerate(total_scores):\n",
    "            print(f'[{i}] Name: {student[\"name\"]}, Math:{student[\"math\"]}, Science: {student[\"science\"]}, English: {student[\"english\"]}')\n",
    "            \n",
    "        del_data = int(input(\"Enter index of data to delete: \"))\n",
    "        total_scores.pop(del_data)\n",
    "        \n",
    "        print(\"Deleted\")\n",
    "        print(total_scores)\n",
    "       \n",
    "    \n",
    "    elif menu == 0:\n",
    "        with open(\"data.pkl\",\"wb\") as file:\n",
    "            pickle.dump(total_scores, file)\n",
    "        \n",
    "        print(\"Session Ended.\")\n",
    "        \n",
    "        break"
   ]
  },
  {
   "cell_type": "code",
   "execution_count": 1,
   "metadata": {},
   "outputs": [
    {
     "name": "stdout",
     "output_type": "stream",
     "text": [
      "[{'name': 'emily', 'math': 100, 'science': 20, 'english': 60}]\n"
     ]
    }
   ],
   "source": [
    "import pickle\n",
    "\n",
    "with open(\"data.pkl\",\"rb\") as file:\n",
    "    total_scores=pickle.load(file)\n",
    "\n",
    "    print(total_scores)"
   ]
  },
  {
   "cell_type": "code",
   "execution_count": null,
   "metadata": {},
   "outputs": [],
   "source": []
  }
 ],
 "metadata": {
  "kernelspec": {
   "display_name": "Python 3",
   "language": "python",
   "name": "python3"
  },
  "language_info": {
   "codemirror_mode": {
    "name": "ipython",
    "version": 3
   },
   "file_extension": ".py",
   "mimetype": "text/x-python",
   "name": "python",
   "nbconvert_exporter": "python",
   "pygments_lexer": "ipython3",
   "version": "3.8.5"
  }
 },
 "nbformat": 4,
 "nbformat_minor": 4
}
