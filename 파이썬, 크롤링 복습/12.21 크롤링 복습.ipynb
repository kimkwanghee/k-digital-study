{
 "cells": [
  {
   "cell_type": "code",
   "execution_count": 1,
   "metadata": {},
   "outputs": [],
   "source": [
    "import requests"
   ]
  },
  {
   "cell_type": "code",
   "execution_count": 2,
   "metadata": {},
   "outputs": [
    {
     "name": "stdout",
     "output_type": "stream",
     "text": [
      "200\n"
     ]
    }
   ],
   "source": [
    "URL='https://scrapying-study.firebaseapp.com/01/'\n",
    "response=requests.get(URL)\n",
    "\n",
    "print(response.status_code)"
   ]
  },
  {
   "cell_type": "markdown",
   "metadata": {},
   "source": [
    "html 실습 1번 "
   ]
  },
  {
   "cell_type": "code",
   "execution_count": 5,
   "metadata": {},
   "outputs": [
    {
     "name": "stdout",
     "output_type": "stream",
     "text": [
      "\n",
      "    전통적인 요리법이나 양식은 상당한 차이가 있지만, 이탈리아 요리는 다른 국가의 요리 문화에서 다양한 영감을 줄 만큼 다양하고 혁신적인 것으로 평가되고 있다. 각 지방마다 고유의 특색이 있어 그 양식도 다양하지만 크게 북부와 남부로 나눌 수 있다. 다른 나라와 국경을 맞대고 있던 북부 지방은 산업화되어 경제적으로 풍족하고 농업이 발달해 쌀이 풍부해 유제품이 다양한 반면 경제적으로 침체되었던 남부 지방은 올리브와 토마토, 모차렐라 치즈가 유명하고 특별히 해산물을 활용한 요리가 많다. 식재료와 치즈 등의 차이는 파스타의 종류와 소스와 수프 등도 다름을 의미한다.\n",
      "\n"
     ]
    }
   ],
   "source": [
    "import requests\n",
    "from bs4 import BeautifulSoup\n",
    "URL='https://scrapying-study.firebaseapp.com/01/'\n",
    "r=requests.get(URL)  \n",
    "s=BeautifulSoup(r.text,'html.parser')\n",
    "result=s.find('p',attrs={'id':'cook'})  #p태그 속성 값 id=cook \n",
    "print(result.text)"
   ]
  },
  {
   "cell_type": "code",
   "execution_count": 3,
   "metadata": {
    "scrolled": true
   },
   "outputs": [
    {
     "name": "stdout",
     "output_type": "stream",
     "text": [
      "<!DOCTYPE html>\n",
      "<html>\n",
      "<head>\n",
      "<title>크롤링 연습사이트 01</title>\n",
      "</head>\n",
      "<body>\n",
      "<h1>저의 첫 웹사이트 오신것을 환영합니다.</h1>\n",
      "<h1 title=\"welcome\">인사이트캠퍼스.</h1>\n",
      "<h2>이곳은 크롤링 연습을 위한 웹사이트입니다.</h2>\n",
      "<table border=\"1\">\n",
      "    <thead>\n",
      "      <tr>\n",
      "      \t<th class=\"tablehead\">이름</th>\n",
      "        <th class=\"tablehead\">나이</th>\n",
      "      </tr>\n",
      "    </thead>\n",
      "    <tbody>\n",
      "      <tr>\n",
      "          <td>이몽룡</td>\n",
      "          <td>34</td>\n",
      "      </tr>\n",
      "      <tr>\n",
      "          <td>홍길동</td>\n",
      "          <td>23</td>\n",
      "      </tr>\n",
      "     </tbody>\n",
      "</table>\n",
      "<p id=\"hello\">\n",
      "    이탈리아 요리의 시작은 기원전 4세기로 거슬러 올라갈 수 있다. 대항해시대를 거치면서 아메리카 대륙에서 감자·토마토·후추·옥수수 등이 유입되어 그 종류와 풍미가 다양해졌고 현대에 이르러서는 피자와 파스타 등 많은 이탈리아 요리가 널리 퍼지게 되었다.\n",
      "</p>\n",
      "<p id=\"cook\">\n",
      "    전통적인 요리법이나 양식은 상당한 차이가 있지만, 이탈리아 요리는 다른 국가의 요리 문화에서 다양한 영감을 줄 만큼 다양하고 혁신적인 것으로 평가되고 있다. 각 지방마다 고유의 특색이 있어 그 양식도 다양하지만 크게 북부와 남부로 나눌 수 있다. 다른 나라와 국경을 맞대고 있던 북부 지방은 산업화되어 경제적으로 풍족하고 농업이 발달해 쌀이 풍부해 유제품이 다양한 반면 경제적으로 침체되었던 남부 지방은 올리브와 토마토, 모차렐라 치즈가 유명하고 특별히 해산물을 활용한 요리가 많다. 식재료와 치즈 등의 차이는 파스타의 종류와 소스와 수프 등도 다름을 의미한다.\n",
      "</p>\n",
      "<a href=\"01.html\">1페이지 바로가기</a>\n",
      "<a href=\"02.html\">2페이지 바로가기</a>\n",
      "<a href=\"03.html\">3페이지 바로가기</a>\n",
      "<a href=\"04.html\">4페이지 바로가기</a>\n",
      "</body>\n",
      "</html>\n",
      "\n"
     ]
    }
   ],
   "source": [
    "print(response.text)"
   ]
  },
  {
   "cell_type": "code",
   "execution_count": 4,
   "metadata": {},
   "outputs": [
    {
     "name": "stdout",
     "output_type": "stream",
     "text": [
      "200\n"
     ]
    }
   ],
   "source": [
    "URL='https://scrapying-study.firebaseapp.com/01/'\n",
    "response=requests.get(URL)\n",
    "\n",
    "headers={'Content-Type':'application/json;charset=utf-8'}\n",
    "reponse=requests.get(URL,headers=headers)\n",
    "\n",
    "print(response.status_code)"
   ]
  },
  {
   "cell_type": "code",
   "execution_count": 5,
   "metadata": {},
   "outputs": [
    {
     "name": "stdout",
     "output_type": "stream",
     "text": [
      "<!DOCTYPE html>\n",
      "<html>\n",
      "<head>\n",
      "<title>크롤링 연습사이트 01</title>\n",
      "</head>\n",
      "<body>\n",
      "<h1>저의 첫 웹사이트 오신것을 환영합니다.</h1>\n",
      "<h1 title=\"welcome\">인사이트캠퍼스.</h1>\n",
      "<h2>이곳은 크롤링 연습을 위한 웹사이트입니다.</h2>\n",
      "<table border=\"1\">\n",
      "    <thead>\n",
      "      <tr>\n",
      "      \t<th class=\"tablehead\">이름</th>\n",
      "        <th class=\"tablehead\">나이</th>\n",
      "      </tr>\n",
      "    </thead>\n",
      "    <tbody>\n",
      "      <tr>\n",
      "          <td>이몽룡</td>\n",
      "          <td>34</td>\n",
      "      </tr>\n",
      "      <tr>\n",
      "          <td>홍길동</td>\n",
      "          <td>23</td>\n",
      "      </tr>\n",
      "     </tbody>\n",
      "</table>\n",
      "<p id=\"hello\">\n",
      "    이탈리아 요리의 시작은 기원전 4세기로 거슬러 올라갈 수 있다. 대항해시대를 거치면서 아메리카 대륙에서 감자·토마토·후추·옥수수 등이 유입되어 그 종류와 풍미가 다양해졌고 현대에 이르러서는 피자와 파스타 등 많은 이탈리아 요리가 널리 퍼지게 되었다.\n",
      "</p>\n",
      "<p id=\"cook\">\n",
      "    전통적인 요리법이나 양식은 상당한 차이가 있지만, 이탈리아 요리는 다른 국가의 요리 문화에서 다양한 영감을 줄 만큼 다양하고 혁신적인 것으로 평가되고 있다. 각 지방마다 고유의 특색이 있어 그 양식도 다양하지만 크게 북부와 남부로 나눌 수 있다. 다른 나라와 국경을 맞대고 있던 북부 지방은 산업화되어 경제적으로 풍족하고 농업이 발달해 쌀이 풍부해 유제품이 다양한 반면 경제적으로 침체되었던 남부 지방은 올리브와 토마토, 모차렐라 치즈가 유명하고 특별히 해산물을 활용한 요리가 많다. 식재료와 치즈 등의 차이는 파스타의 종류와 소스와 수프 등도 다름을 의미한다.\n",
      "</p>\n",
      "<a href=\"01.html\">1페이지 바로가기</a>\n",
      "<a href=\"02.html\">2페이지 바로가기</a>\n",
      "<a href=\"03.html\">3페이지 바로가기</a>\n",
      "<a href=\"04.html\">4페이지 바로가기</a>\n",
      "</body>\n",
      "</html>\n",
      "\n"
     ]
    }
   ],
   "source": [
    "print(response.text)"
   ]
  },
  {
   "cell_type": "code",
   "execution_count": 6,
   "metadata": {},
   "outputs": [
    {
     "name": "stdout",
     "output_type": "stream",
     "text": [
      "200\n"
     ]
    }
   ],
   "source": [
    "URL='https://scrapying-study.firebaseapp.com/01/'\n",
    "\n",
    "data={'name':'ronen'}\n",
    "response=requests.get(URL,data=data)   #data을 URL에 전송 \n",
    "\n",
    "print(response.status_code)\n"
   ]
  },
  {
   "cell_type": "code",
   "execution_count": 7,
   "metadata": {},
   "outputs": [
    {
     "name": "stdout",
     "output_type": "stream",
     "text": [
      "<!DOCTYPE html>\n",
      "<html>\n",
      "<head>\n",
      "<title>크롤링 연습사이트 01</title>\n",
      "</head>\n",
      "<body>\n",
      "<h1>저의 첫 웹사이트 오신것을 환영합니다.</h1>\n",
      "<h1 title=\"welcome\">인사이트캠퍼스.</h1>\n",
      "<h2>이곳은 크롤링 연습을 위한 웹사이트입니다.</h2>\n",
      "<table border=\"1\">\n",
      "    <thead>\n",
      "      <tr>\n",
      "      \t<th class=\"tablehead\">이름</th>\n",
      "        <th class=\"tablehead\">나이</th>\n",
      "      </tr>\n",
      "    </thead>\n",
      "    <tbody>\n",
      "      <tr>\n",
      "          <td>이몽룡</td>\n",
      "          <td>34</td>\n",
      "      </tr>\n",
      "      <tr>\n",
      "          <td>홍길동</td>\n",
      "          <td>23</td>\n",
      "      </tr>\n",
      "     </tbody>\n",
      "</table>\n",
      "<p id=\"hello\">\n",
      "    이탈리아 요리의 시작은 기원전 4세기로 거슬러 올라갈 수 있다. 대항해시대를 거치면서 아메리카 대륙에서 감자·토마토·후추·옥수수 등이 유입되어 그 종류와 풍미가 다양해졌고 현대에 이르러서는 피자와 파스타 등 많은 이탈리아 요리가 널리 퍼지게 되었다.\n",
      "</p>\n",
      "<p id=\"cook\">\n",
      "    전통적인 요리법이나 양식은 상당한 차이가 있지만, 이탈리아 요리는 다른 국가의 요리 문화에서 다양한 영감을 줄 만큼 다양하고 혁신적인 것으로 평가되고 있다. 각 지방마다 고유의 특색이 있어 그 양식도 다양하지만 크게 북부와 남부로 나눌 수 있다. 다른 나라와 국경을 맞대고 있던 북부 지방은 산업화되어 경제적으로 풍족하고 농업이 발달해 쌀이 풍부해 유제품이 다양한 반면 경제적으로 침체되었던 남부 지방은 올리브와 토마토, 모차렐라 치즈가 유명하고 특별히 해산물을 활용한 요리가 많다. 식재료와 치즈 등의 차이는 파스타의 종류와 소스와 수프 등도 다름을 의미한다.\n",
      "</p>\n",
      "<a href=\"01.html\">1페이지 바로가기</a>\n",
      "<a href=\"02.html\">2페이지 바로가기</a>\n",
      "<a href=\"03.html\">3페이지 바로가기</a>\n",
      "<a href=\"04.html\">4페이지 바로가기</a>\n",
      "</body>\n",
      "</html>\n",
      "\n"
     ]
    }
   ],
   "source": [
    "print(response.text)"
   ]
  },
  {
   "cell_type": "markdown",
   "metadata": {},
   "source": [
    "import 모듈\n",
    "\n",
    "→ 해당 모듈 전체를 가져온다.\n",
    "\n",
    "    사용하려면 항상 '모듈명.메소드' 와 같이 모듈명을 앞에 붙여주어야 한다.\n",
    "\n",
    "\n",
    "\n",
    "from 모듈 import 메소드 / 변수\n",
    "\n",
    "→ 해당 모듈 내에 있는 특정 메소드나 모듈 내 정의된 변수를 가져온다.\n",
    "\n",
    "    가져온 메소드나 변수를 앞에 모듈명을 붙이지 않고 그대로 사용할 수 있다.\n",
    "\n",
    "    다만, 이름이 같은 변수나 메소드가 존재할 경우 대체된다.\n",
    "\n",
    "    \n",
    "\n",
    "    from 모듈 import * 이라고 하면 import 모듈과 동일하다. (사용 시 모듈명 붙이는 것 빼고)\n",
    "\n",
    "\n",
    "\n",
    "출처: https://driz2le.tistory.com/207 [홀로 떠나는 여행]"
   ]
  },
  {
   "cell_type": "markdown",
   "metadata": {},
   "source": [
    "실습2"
   ]
  },
  {
   "cell_type": "code",
   "execution_count": 25,
   "metadata": {},
   "outputs": [
    {
     "name": "stdout",
     "output_type": "stream",
     "text": [
      "['이름', '나이']\n",
      "['이몽룡', '34', '홍길동', '23']\n"
     ]
    },
    {
     "data": {
      "text/plain": [
       "[{'이름': '이몽룡', '나이': '34'}, {'이름': '이몽룡', '나이': '34'}]"
      ]
     },
     "execution_count": 25,
     "metadata": {},
     "output_type": "execute_result"
    }
   ],
   "source": [
    "import requests\n",
    "from bs4 import BeautifulSoup\n",
    "\n",
    "URL='https://scrapying-study.firebaseapp.com/01/'\n",
    "r=requests.get(URL)\n",
    "s=BeautifulSoup(r.text,'html.parser')\n",
    "result=s.find_all('th','tablehead')\n",
    "tablehead=[]\n",
    "for i in result:\n",
    "    tablehead.append(i.text)\n",
    "print(tablehead)\n",
    "\n",
    "r=requests.get(URL)\n",
    "s=BeautifulSoup(r.text,'html.parser')\n",
    "result=s.find_all('td')\n",
    "td=[]\n",
    "for i in result:\n",
    "    td.append(i.text)\n",
    "print(td)\n",
    "\n",
    "result=[dict(zip(tablehead,td)),dict(zip(tablehead,td))]\n",
    "result"
   ]
  },
  {
   "cell_type": "code",
   "execution_count": null,
   "metadata": {},
   "outputs": [],
   "source": [
    "실습 3"
   ]
  },
  {
   "cell_type": "code",
   "execution_count": 32,
   "metadata": {},
   "outputs": [
    {
     "name": "stdout",
     "output_type": "stream",
     "text": [
      "[<a href=\"01.html\">1페이지 바로가기</a>, <a href=\"02.html\">2페이지 바로가기</a>, <a href=\"03.html\">3페이지 바로가기</a>, <a href=\"04.html\">4페이지 바로가기</a>]\n",
      "\n",
      "    크롤링 연습사이트 01-1 페이지입니다.\n",
      "\n",
      "\n",
      "    크롤링 연습사이트 01-2 페이지입니다.\n",
      "\n",
      "\n",
      "    크롤링 연습사이트 01-3 페이지입니다.\n",
      "\n",
      "\n",
      "    크롤링 연습사이트 01-4 페이지입니다.\n",
      "\n"
     ]
    }
   ],
   "source": [
    "import requests\n",
    "from bs4 import BeautifulSoup\n",
    "\n",
    "URL='https://scrapying-study.firebaseapp.com/01/'\n",
    "response=requests.get(URL)\n",
    "soup=BeautifulSoup(response.text,'html.parser')\n",
    "result=soup.find_all('a')\n",
    "print(result)\n",
    "\n",
    "for i in result:\n",
    "    html=i.attrs['href']\n",
    "    URL='https://scrapying-study.firebaseapp.com/01/'+html\n",
    "    response=requests.get(URL)\n",
    "    soup=BeautifulSoup(response.text,'html.parser')\n",
    "    result=soup.find('p')\n",
    "    print(result.text)\n"
   ]
  },
  {
   "cell_type": "code",
   "execution_count": 11,
   "metadata": {},
   "outputs": [
    {
     "name": "stdout",
     "output_type": "stream",
     "text": [
      "<title>크롤링 연습사이트 01</title>\n"
     ]
    }
   ],
   "source": [
    "import requests\n",
    "from bs4 import BeautifulSoup\n",
    "\n",
    "\n",
    "URL='https://scrapying-study.firebaseapp.com/01/'\n",
    "response=requests.get(URL)\n",
    "soup=BeautifulSoup(response.text,'html.parser')\n",
    "result=soup.find('title')\n",
    "print(result)"
   ]
  },
  {
   "cell_type": "code",
   "execution_count": 12,
   "metadata": {},
   "outputs": [
    {
     "data": {
      "text/plain": [
       "<p id=\"hello\">\n",
       "    이탈리아 요리의 시작은 기원전 4세기로 거슬러 올라갈 수 있다. 대항해시대를 거치면서 아메리카 대륙에서 감자·토마토·후추·옥수수 등이 유입되어 그 종류와 풍미가 다양해졌고 현대에 이르러서는 피자와 파스타 등 많은 이탈리아 요리가 널리 퍼지게 되었다.\n",
       "</p>"
      ]
     },
     "execution_count": 12,
     "metadata": {},
     "output_type": "execute_result"
    }
   ],
   "source": [
    "soup.find('p')"
   ]
  },
  {
   "cell_type": "code",
   "execution_count": 13,
   "metadata": {},
   "outputs": [
    {
     "data": {
      "text/plain": [
       "[<p id=\"hello\">\n",
       "     이탈리아 요리의 시작은 기원전 4세기로 거슬러 올라갈 수 있다. 대항해시대를 거치면서 아메리카 대륙에서 감자·토마토·후추·옥수수 등이 유입되어 그 종류와 풍미가 다양해졌고 현대에 이르러서는 피자와 파스타 등 많은 이탈리아 요리가 널리 퍼지게 되었다.\n",
       " </p>,\n",
       " <p id=\"cook\">\n",
       "     전통적인 요리법이나 양식은 상당한 차이가 있지만, 이탈리아 요리는 다른 국가의 요리 문화에서 다양한 영감을 줄 만큼 다양하고 혁신적인 것으로 평가되고 있다. 각 지방마다 고유의 특색이 있어 그 양식도 다양하지만 크게 북부와 남부로 나눌 수 있다. 다른 나라와 국경을 맞대고 있던 북부 지방은 산업화되어 경제적으로 풍족하고 농업이 발달해 쌀이 풍부해 유제품이 다양한 반면 경제적으로 침체되었던 남부 지방은 올리브와 토마토, 모차렐라 치즈가 유명하고 특별히 해산물을 활용한 요리가 많다. 식재료와 치즈 등의 차이는 파스타의 종류와 소스와 수프 등도 다름을 의미한다.\n",
       " </p>]"
      ]
     },
     "execution_count": 13,
     "metadata": {},
     "output_type": "execute_result"
    }
   ],
   "source": [
    "soup.find_all('p',limit=2)"
   ]
  },
  {
   "cell_type": "code",
   "execution_count": 16,
   "metadata": {},
   "outputs": [
    {
     "data": {
      "text/plain": [
       "[<th class=\"tablehead\">이름</th>, <th class=\"tablehead\">나이</th>]"
      ]
     },
     "execution_count": 16,
     "metadata": {},
     "output_type": "execute_result"
    }
   ],
   "source": [
    "soup.find_all('th','tablehead')\n"
   ]
  },
  {
   "cell_type": "code",
   "execution_count": 18,
   "metadata": {},
   "outputs": [
    {
     "data": {
      "text/plain": [
       "<th class=\"tablehead\">이름</th>"
      ]
     },
     "execution_count": 18,
     "metadata": {},
     "output_type": "execute_result"
    }
   ],
   "source": [
    "soup.find('th',class_='tablehead')"
   ]
  },
  {
   "cell_type": "code",
   "execution_count": 23,
   "metadata": {},
   "outputs": [
    {
     "data": {
      "text/plain": [
       "<th class=\"tablehead\">이름</th>"
      ]
     },
     "execution_count": 23,
     "metadata": {},
     "output_type": "execute_result"
    }
   ],
   "source": [
    "soup.find('th',attrs={'class':'tablehead'})"
   ]
  },
  {
   "cell_type": "code",
   "execution_count": 24,
   "metadata": {},
   "outputs": [
    {
     "data": {
      "text/plain": [
       "<h1 title=\"welcome\">인사이트캠퍼스.</h1>"
      ]
     },
     "execution_count": 24,
     "metadata": {},
     "output_type": "execute_result"
    }
   ],
   "source": [
    "soup.find('h1',attrs={'title':'welcome'})"
   ]
  },
  {
   "cell_type": "code",
   "execution_count": 25,
   "metadata": {},
   "outputs": [
    {
     "data": {
      "text/plain": [
       "<p id=\"hello\">\n",
       "    이탈리아 요리의 시작은 기원전 4세기로 거슬러 올라갈 수 있다. 대항해시대를 거치면서 아메리카 대륙에서 감자·토마토·후추·옥수수 등이 유입되어 그 종류와 풍미가 다양해졌고 현대에 이르러서는 피자와 파스타 등 많은 이탈리아 요리가 널리 퍼지게 되었다.\n",
       "</p>"
      ]
     },
     "execution_count": 25,
     "metadata": {},
     "output_type": "execute_result"
    }
   ],
   "source": [
    "soup.find(id='hello')"
   ]
  },
  {
   "cell_type": "code",
   "execution_count": 26,
   "metadata": {},
   "outputs": [
    {
     "name": "stdout",
     "output_type": "stream",
     "text": [
      "1페이지 바로가기\n"
     ]
    }
   ],
   "source": [
    "URL='https://scrapying-study.firebaseapp.com/01/'\n",
    "response=requests.get(URL)\n",
    "soup=BeautifulSoup(reponse.text,'html.parser')\n",
    "results=soup.find('a')\n",
    "print(results.text)"
   ]
  },
  {
   "cell_type": "code",
   "execution_count": 27,
   "metadata": {},
   "outputs": [
    {
     "name": "stdout",
     "output_type": "stream",
     "text": [
      "01.html\n"
     ]
    }
   ],
   "source": [
    "print(results.attrs['href'])"
   ]
  },
  {
   "cell_type": "code",
   "execution_count": 29,
   "metadata": {},
   "outputs": [
    {
     "data": {
      "text/plain": [
       "<table border=\"1\">\n",
       "<thead>\n",
       "<tr>\n",
       "<th class=\"tablehead\">이름</th>\n",
       "<th class=\"tablehead\">나이</th>\n",
       "</tr>\n",
       "</thead>\n",
       "<tbody>\n",
       "<tr>\n",
       "<td>이몽룡</td>\n",
       "<td>34</td>\n",
       "</tr>\n",
       "<tr>\n",
       "<td>홍길동</td>\n",
       "<td>23</td>\n",
       "</tr>\n",
       "</tbody>\n",
       "</table>"
      ]
     },
     "execution_count": 29,
     "metadata": {},
     "output_type": "execute_result"
    }
   ],
   "source": [
    "result=soup.find('table')\n",
    "result"
   ]
  },
  {
   "cell_type": "code",
   "execution_count": 30,
   "metadata": {},
   "outputs": [],
   "source": [
    "result2=result.find('tbody')"
   ]
  },
  {
   "cell_type": "code",
   "execution_count": 31,
   "metadata": {},
   "outputs": [
    {
     "data": {
      "text/plain": [
       "<tbody>\n",
       "<tr>\n",
       "<td>이몽룡</td>\n",
       "<td>34</td>\n",
       "</tr>\n",
       "<tr>\n",
       "<td>홍길동</td>\n",
       "<td>23</td>\n",
       "</tr>\n",
       "</tbody>"
      ]
     },
     "execution_count": 31,
     "metadata": {},
     "output_type": "execute_result"
    }
   ],
   "source": [
    "result2"
   ]
  },
  {
   "cell_type": "code",
   "execution_count": 32,
   "metadata": {},
   "outputs": [
    {
     "data": {
      "text/plain": [
       "'\\n\\n\\n이름\\n나이\\n\\n\\n\\n\\n이몽룡\\n34\\n\\n\\n홍길동\\n23\\n\\n\\n'"
      ]
     },
     "execution_count": 32,
     "metadata": {},
     "output_type": "execute_result"
    }
   ],
   "source": [
    "result.text"
   ]
  },
  {
   "cell_type": "code",
   "execution_count": 1,
   "metadata": {},
   "outputs": [
    {
     "data": {
      "text/plain": [
       "'\\n    전통적인 요리법이나 양식은 상당한 차이가 있지만, 이탈리아 요리는 다른 국가의 요리 문화에서 다양한 영감을 줄 만큼 다양하고 혁신적인 것으로 평가되고 있다. 각 지방마다 고유의 특색이 있어 그 양식도 다양하지만 크게 북부와 남부로 나눌 수 있다. 다른 나라와 국경을 맞대고 있던 북부 지방은 산업화되어 경제적으로 풍족하고 농업이 발달해 쌀이 풍부해 유제품이 다양한 반면 경제적으로 침체되었던 남부 지방은 올리브와 토마토, 모차렐라 치즈가 유명하고 특별히 해산물을 활용한 요리가 많다. 식재료와 치즈 등의 차이는 파스타의 종류와 소스와 수프 등도 다름을 의미한다.\\n'"
      ]
     },
     "execution_count": 1,
     "metadata": {},
     "output_type": "execute_result"
    }
   ],
   "source": [
    "import requests\n",
    "from bs4 import BeautifulSoup\n",
    "\n",
    "URL='https://scrapying-study.firebaseapp.com/01'\n",
    "\n",
    "response=requests.get(URL)\n",
    "soup=BeautifulSoup(response.text,'html.parser')\n",
    "result=soup.find(id='cook')\n",
    "result.text"
   ]
  },
  {
   "cell_type": "code",
   "execution_count": 3,
   "metadata": {},
   "outputs": [],
   "source": [
    "result_th=soup.find_all('th')"
   ]
  },
  {
   "cell_type": "code",
   "execution_count": 4,
   "metadata": {},
   "outputs": [
    {
     "data": {
      "text/plain": [
       "[<th class=\"tablehead\">이름</th>, <th class=\"tablehead\">나이</th>]"
      ]
     },
     "execution_count": 4,
     "metadata": {},
     "output_type": "execute_result"
    }
   ],
   "source": [
    "result_th   #<th class=\"tablehead\">이름</th>는 객체이다. "
   ]
  },
  {
   "cell_type": "code",
   "execution_count": 64,
   "metadata": {},
   "outputs": [
    {
     "data": {
      "text/plain": [
       "['이름', '나이']"
      ]
     },
     "execution_count": 64,
     "metadata": {},
     "output_type": "execute_result"
    }
   ],
   "source": [
    "result_td=soup.find_all('td')\n",
    "result_td\n",
    "result2=[]\n",
    "for i in result_td:\n",
    "   result2.append(i.text) \n",
    "result2\n",
    "\n",
    "result_hd=soup.find_all('th')\n",
    "result3=[]\n",
    "for j in result_hd:\n",
    "    result3.append(j.text)\n",
    "result3"
   ]
  },
  {
   "cell_type": "code",
   "execution_count": 65,
   "metadata": {},
   "outputs": [
    {
     "data": {
      "text/plain": [
       "['이몽룡', '34', '홍길동', '23']"
      ]
     },
     "execution_count": 65,
     "metadata": {},
     "output_type": "execute_result"
    }
   ],
   "source": [
    "result2"
   ]
  },
  {
   "cell_type": "code",
   "execution_count": 66,
   "metadata": {},
   "outputs": [
    {
     "data": {
      "text/plain": [
       "[{'이름': '이몽룡', '나이': '34'}, {'이름': '홍길동', '나이': '23'}]"
      ]
     },
     "execution_count": 66,
     "metadata": {},
     "output_type": "execute_result"
    }
   ],
   "source": [
    "result5=[dict(zip(result3,result2[0:2])),dict(zip(result3,result2[2:4]))]\n",
    "result5"
   ]
  },
  {
   "cell_type": "code",
   "execution_count": 90,
   "metadata": {},
   "outputs": [
    {
     "data": {
      "text/plain": [
       "[<a href=\"01.html\">1페이지 바로가기</a>,\n",
       " <a href=\"02.html\">2페이지 바로가기</a>,\n",
       " <a href=\"03.html\">3페이지 바로가기</a>,\n",
       " <a href=\"04.html\">4페이지 바로가기</a>]"
      ]
     },
     "execution_count": 90,
     "metadata": {},
     "output_type": "execute_result"
    }
   ],
   "source": [
    "import requests\n",
    "from bs4 import BeautifulSoup\n",
    "\n",
    "URL='https://scrapying-study.firebaseapp.com/01'\n",
    "response=requests.get(URL)\n",
    "soup=BeautifulSoup(response.text,'html.parser')\n",
    "result=soup.find_all('a')\n",
    "result"
   ]
  },
  {
   "cell_type": "code",
   "execution_count": 91,
   "metadata": {},
   "outputs": [
    {
     "name": "stdout",
     "output_type": "stream",
     "text": [
      "01.html\n",
      "02.html\n",
      "03.html\n",
      "04.html\n"
     ]
    }
   ],
   "source": [
    "for i in result:\n",
    "    Z=i.attrs['href']\n",
    "    print(Z)"
   ]
  },
  {
   "cell_type": "code",
   "execution_count": 92,
   "metadata": {},
   "outputs": [
    {
     "name": "stdout",
     "output_type": "stream",
     "text": [
      "\n",
      "    크롤링 연습사이트 01-1 페이지입니다.\n",
      "\n",
      "\n",
      "    크롤링 연습사이트 01-2 페이지입니다.\n",
      "\n",
      "\n",
      "    크롤링 연습사이트 01-3 페이지입니다.\n",
      "\n",
      "\n",
      "    크롤링 연습사이트 01-4 페이지입니다.\n",
      "\n"
     ]
    }
   ],
   "source": [
    "for i in result:\n",
    "    Z=i.attrs['href']\n",
    "    URL='https://scrapying-study.firebaseapp.com/01'+'/'+Z\n",
    "    response=requests.get(URL)\n",
    "    soup=BeautifulSoup(response.text,'html.parser')\n",
    "    result=soup.find('p')   #p가 만약 다른 곳에서 중복되면 부모 형제로 접근\n",
    "    print(result.text)"
   ]
  },
  {
   "cell_type": "code",
   "execution_count": 93,
   "metadata": {},
   "outputs": [
    {
     "name": "stdout",
     "output_type": "stream",
     "text": [
      "[<title>크롤링 연습사이트 02</title>]\n"
     ]
    }
   ],
   "source": [
    "URL='https://scrapying-study.firebaseapp.com/02/'\n",
    "response=requests.get(URL)\n",
    "soup=BeautifulSoup(response.text,\"html.parser\")\n",
    "result=soup.select('title')  \n",
    "print(result)"
   ]
  },
  {
   "cell_type": "code",
   "execution_count": 94,
   "metadata": {
    "scrolled": true
   },
   "outputs": [
    {
     "name": "stdout",
     "output_type": "stream",
     "text": [
      "<div class=\"bold blue\" id=\"title\">\n",
      "        안녕하세요 \n",
      "    </div>\n",
      "\n",
      "\n",
      "\n",
      "<div class=\"bold\" id=\"content\">\n",
      "<ul>\n",
      "<li>첫번쨰리스트</li>\n",
      "<li class=\"blue\">두번째리스트</li>\n",
      "<li class=\"blue\">세번째리스트</li>\n",
      "<li>네번째리스트</li>\n",
      "</ul>\n",
      "</div>\n",
      "\n",
      "\n",
      "\n",
      "<div id=\"winter\">\n",
      "<p>온세상이 떨릴듯</p>\n",
      "<p class=\"blue\">두근거리고 <span>익숙한 듯 편안해</span></p>\n",
      "<div>\n",
      "<p>네가 느껴져</p>\n",
      "<p class=\"blue\">오래된 친구같아</p>\n",
      "<span>안녕하세요!</span>\n",
      "</div>\n",
      "</div>\n",
      "\n",
      "\n",
      "\n",
      "<div>\n",
      "<p>네가 느껴져</p>\n",
      "<p class=\"blue\">오래된 친구같아</p>\n",
      "<span>안녕하세요!</span>\n",
      "</div>\n",
      "\n",
      "\n",
      "\n"
     ]
    }
   ],
   "source": [
    "result=soup.select('div')\n",
    "for div in result:\n",
    "    print(div)\n",
    "    print('\\n\\n')"
   ]
  },
  {
   "cell_type": "code",
   "execution_count": 95,
   "metadata": {},
   "outputs": [
    {
     "data": {
      "text/plain": [
       "<div class=\"bold blue\" id=\"title\">\n",
       "        안녕하세요 \n",
       "    </div>"
      ]
     },
     "execution_count": 95,
     "metadata": {},
     "output_type": "execute_result"
    }
   ],
   "source": [
    "result=soup.select_one('#title')\n",
    "result"
   ]
  },
  {
   "cell_type": "code",
   "execution_count": 97,
   "metadata": {},
   "outputs": [
    {
     "name": "stdout",
     "output_type": "stream",
     "text": [
      "[<div class=\"bold blue\" id=\"title\">\n",
      "        안녕하세요 \n",
      "    </div>, <div class=\"bold\" id=\"content\">\n",
      "<ul>\n",
      "<li>첫번쨰리스트</li>\n",
      "<li class=\"blue\">두번째리스트</li>\n",
      "<li class=\"blue\">세번째리스트</li>\n",
      "<li>네번째리스트</li>\n",
      "</ul>\n",
      "</div>]\n"
     ]
    }
   ],
   "source": [
    "URL='https://scrapying-study.firebaseapp.com/02/'\n",
    "response=requests.get(URL)\n",
    "soup=BeautifulSoup(response.text,\"html.parser\")\n",
    "result=soup.select('.bold')  \n",
    "print(result)"
   ]
  },
  {
   "cell_type": "code",
   "execution_count": 101,
   "metadata": {},
   "outputs": [
    {
     "name": "stdout",
     "output_type": "stream",
     "text": [
      "[<a href=\"http://naver.com\" target=\"_blank\">네이버</a>]\n"
     ]
    }
   ],
   "source": [
    "URL='https://scrapying-study.firebaseapp.com/02/'\n",
    "response=requests.get(URL)\n",
    "soup=BeautifulSoup(response.text,\"html.parser\")\n",
    "result=soup.select('a[target=\"_blank\"]')\n",
    "print(result)"
   ]
  },
  {
   "cell_type": "code",
   "execution_count": 103,
   "metadata": {},
   "outputs": [
    {
     "name": "stdout",
     "output_type": "stream",
     "text": [
      "[<a href=\"http://naver.com\" target=\"_blank\">네이버</a>, <a href=\"http://google.com\" target=\"_self\">구글</a>]\n"
     ]
    }
   ],
   "source": [
    "result=soup.select('a[href$=\".com\"]')\n",
    "print(result)"
   ]
  },
  {
   "cell_type": "code",
   "execution_count": 104,
   "metadata": {},
   "outputs": [
    {
     "name": "stdout",
     "output_type": "stream",
     "text": [
      "[<p>온세상이 떨릴듯</p>, <p class=\"blue\">두근거리고 <span>익숙한 듯 편안해</span></p>, <p>네가 느껴져</p>, <p class=\"blue\">오래된 친구같아</p>]\n"
     ]
    }
   ],
   "source": [
    "result=soup.select('div#winter p')\n",
    "print(result)"
   ]
  },
  {
   "cell_type": "code",
   "execution_count": 105,
   "metadata": {},
   "outputs": [
    {
     "name": "stdout",
     "output_type": "stream",
     "text": [
      "[<p>온세상이 떨릴듯</p>, <p class=\"blue\">두근거리고 <span>익숙한 듯 편안해</span></p>]\n"
     ]
    }
   ],
   "source": [
    "result=soup.select('div#winter >p')\n",
    "print(result)"
   ]
  },
  {
   "cell_type": "code",
   "execution_count": 106,
   "metadata": {},
   "outputs": [
    {
     "data": {
      "text/plain": [
       "[<p class=\"blue\">두근거리고 <span>익숙한 듯 편안해</span></p>,\n",
       " <p class=\"blue\">오래된 친구같아</p>]"
      ]
     },
     "execution_count": 106,
     "metadata": {},
     "output_type": "execute_result"
    }
   ],
   "source": [
    "result=soup.select('p.blue')\n",
    "result"
   ]
  },
  {
   "cell_type": "code",
   "execution_count": 163,
   "metadata": {},
   "outputs": [
    {
     "data": {
      "text/plain": [
       "['써니전자',\n",
       " '삼성전자',\n",
       " '안랩',\n",
       " '케이엠더블..',\n",
       " '피피아이',\n",
       " 'KT&G',\n",
       " '삼성전자우',\n",
       " '대양금속',\n",
       " 'SK하이닉스',\n",
       " 'SK텔레콤']"
      ]
     },
     "execution_count": 163,
     "metadata": {},
     "output_type": "execute_result"
    }
   ],
   "source": [
    "URL='https://scrapying-study.firebaseapp.com/03/'\n",
    "response=requests.get(URL)\n",
    "soup=BeautifulSoup(response.text,\"html.parser\")\n",
    "result=soup.select('a[href*=\"https://finance.naver.com/item/main.nhn?code=\"]')\n",
    "\n",
    "popular_stock=[]\n",
    "for i in result:\n",
    "    popular_stock.append(i.text)\n",
    "popular_stock"
   ]
  },
  {
   "cell_type": "code",
   "execution_count": 190,
   "metadata": {},
   "outputs": [
    {
     "name": "stdout",
     "output_type": "stream",
     "text": [
      "['5,000', '55,200', '81,000', '57,300', '12,600', '92,500', '45,600', '10,550', '94,700', '234,000']\n"
     ]
    }
   ],
   "source": [
    "result=soup.select('ul.lst_pop span')\n",
    "result\n",
    "price=[]\n",
    "for i in result:\n",
    "    price.append(i.text)\n",
    "print(price)"
   ]
  },
  {
   "cell_type": "code",
   "execution_count": 191,
   "metadata": {},
   "outputs": [],
   "source": [
    "stock_price=zip(popular_stock,price)"
   ]
  },
  {
   "cell_type": "code",
   "execution_count": 195,
   "metadata": {},
   "outputs": [
    {
     "name": "stdout",
     "output_type": "stream",
     "text": [
      "[['써니전자', '5,000'], ['삼성전자', '55,200'], ['안랩', '81,000'], ['케이엠더블..', '57,300'], ['피피아이', '12,600'], ['KT&G', '92,500'], ['삼성전자우', '45,600'], ['대양금속', '10,550'], ['SK하이닉스', '94,700'], ['SK텔레콤', '234,000']]\n"
     ]
    }
   ],
   "source": [
    "nal=[]\n",
    "val=[]\n",
    "last=[]\n",
    "for i, j in zip(popular_stock,price):\n",
    "    last.append([i,j])\n",
    "print(last)"
   ]
  },
  {
   "cell_type": "code",
   "execution_count": 196,
   "metadata": {},
   "outputs": [
    {
     "data": {
      "text/plain": [
       "['다우산업', '나스닥', '홍콩H', '상해종합', '니케이225']"
      ]
     },
     "execution_count": 196,
     "metadata": {},
     "output_type": "execute_result"
    }
   ],
   "source": [
    "URL='https://scrapying-study.firebaseapp.com/03/'\n",
    "response=requests.get(URL)\n",
    "soup=BeautifulSoup(response.text,\"html.parser\")\n",
    "result=soup.select('a[href*=\"https://finance.naver.com/world/sise.nhn?symbol=\"]')\n",
    "popular_stock=[]\n",
    "for i in result:\n",
    "    popular_stock.append(i.text)\n",
    "popular_stock"
   ]
  },
  {
   "cell_type": "code",
   "execution_count": 197,
   "metadata": {},
   "outputs": [
    {
     "name": "stdout",
     "output_type": "stream",
     "text": [
      "['28,647.43', '9,015.03', '11,320.56', '3,085.20', '23,656.62']\n"
     ]
    }
   ],
   "source": [
    "result=soup.select('ul.lst_major span')\n",
    "result\n",
    "price=[]\n",
    "for i in result:\n",
    "    price.append(i.text)\n",
    "print(price)"
   ]
  },
  {
   "cell_type": "code",
   "execution_count": 198,
   "metadata": {},
   "outputs": [
    {
     "name": "stdout",
     "output_type": "stream",
     "text": [
      "[['다우산업', '28,647.43'], ['나스닥', '9,015.03'], ['홍콩H', '11,320.56'], ['상해종합', '3,085.20'], ['니케이225', '23,656.62']]\n"
     ]
    }
   ],
   "source": [
    "nal=[]\n",
    "val=[]\n",
    "last=[]\n",
    "for i, j in zip(popular_stock,price):\n",
    "    last.append([i,j])\n",
    "print(last)"
   ]
  },
  {
   "cell_type": "code",
   "execution_count": 199,
   "metadata": {},
   "outputs": [
    {
     "data": {
      "text/plain": [
       "['써니전자',\n",
       " '삼성전자',\n",
       " '안랩',\n",
       " '케이엠더블..',\n",
       " '피피아이',\n",
       " 'KT&G',\n",
       " '삼성전자우',\n",
       " '대양금속',\n",
       " 'SK하이닉스',\n",
       " 'SK텔레콤']"
      ]
     },
     "execution_count": 199,
     "metadata": {},
     "output_type": "execute_result"
    }
   ],
   "source": [
    "URL='https://scrapying-study.firebaseapp.com/03/'\n",
    "response=requests.get(URL)\n",
    "soup=BeautifulSoup(response.text,\"html.parser\")\n",
    "result=soup.select('a[href*=\"https://finance.naver.com/item/main.nhn?code=\"]')\n",
    "\n",
    "popular_stock=[]\n",
    "for i in result:\n",
    "    popular_stock.append(i.text)\n",
    "popular_stock"
   ]
  },
  {
   "cell_type": "code",
   "execution_count": 200,
   "metadata": {},
   "outputs": [
    {
     "data": {
      "text/plain": [
       "['다우산업', '나스닥', '홍콩H', '상해종합', '니케이225']"
      ]
     },
     "execution_count": 200,
     "metadata": {},
     "output_type": "execute_result"
    }
   ],
   "source": [
    "URL='https://scrapying-study.firebaseapp.com/03/'\n",
    "response=requests.get(URL)\n",
    "soup=BeautifulSoup(response.text,\"html.parser\")\n",
    "result=soup.select('a[href*=\"https://finance.naver.com/world/sise.nhn?symbol=\"]')\n",
    "popular_stock=[]\n",
    "for i in result:\n",
    "    popular_stock.append(i.text)\n",
    "popular_stock"
   ]
  },
  {
   "cell_type": "code",
   "execution_count": 228,
   "metadata": {
    "scrolled": true
   },
   "outputs": [
    {
     "ename": "AttributeError",
     "evalue": "ResultSet object has no attribute 'attrs'. You're probably treating a list of elements like a single element. Did you call find_all() when you meant to call find()?",
     "output_type": "error",
     "traceback": [
      "\u001b[1;31m---------------------------------------------------------------------------\u001b[0m",
      "\u001b[1;31mAttributeError\u001b[0m                            Traceback (most recent call last)",
      "\u001b[1;32m<ipython-input-228-8fa8c97091dd>\u001b[0m in \u001b[0;36m<module>\u001b[1;34m\u001b[0m\n\u001b[0;32m      2\u001b[0m \u001b[0mresponse\u001b[0m\u001b[1;33m=\u001b[0m\u001b[0mrequests\u001b[0m\u001b[1;33m.\u001b[0m\u001b[0mget\u001b[0m\u001b[1;33m(\u001b[0m\u001b[0mURL\u001b[0m\u001b[1;33m)\u001b[0m\u001b[1;33m\u001b[0m\u001b[1;33m\u001b[0m\u001b[0m\n\u001b[0;32m      3\u001b[0m \u001b[0msoup\u001b[0m\u001b[1;33m=\u001b[0m\u001b[0mBeautifulSoup\u001b[0m\u001b[1;33m(\u001b[0m\u001b[0mresponse\u001b[0m\u001b[1;33m.\u001b[0m\u001b[0mtext\u001b[0m\u001b[1;33m,\u001b[0m\u001b[1;34m\"html.parser\"\u001b[0m\u001b[1;33m)\u001b[0m\u001b[1;33m\u001b[0m\u001b[1;33m\u001b[0m\u001b[0m\n\u001b[1;32m----> 4\u001b[1;33m \u001b[0mresult\u001b[0m\u001b[1;33m=\u001b[0m\u001b[0msoup\u001b[0m\u001b[1;33m.\u001b[0m\u001b[0mselect\u001b[0m\u001b[1;33m(\u001b[0m\u001b[1;34m'img'\u001b[0m\u001b[1;33m)\u001b[0m\u001b[1;33m.\u001b[0m\u001b[0mattrs\u001b[0m\u001b[1;33m[\u001b[0m\u001b[1;34m\"alt\"\u001b[0m\u001b[1;33m]\u001b[0m\u001b[1;33m\u001b[0m\u001b[1;33m\u001b[0m\u001b[0m\n\u001b[0m\u001b[0;32m      5\u001b[0m \u001b[1;33m\u001b[0m\u001b[0m\n\u001b[0;32m      6\u001b[0m \u001b[0mprint\u001b[0m\u001b[1;33m(\u001b[0m\u001b[0mresult\u001b[0m\u001b[1;33m)\u001b[0m\u001b[1;33m\u001b[0m\u001b[1;33m\u001b[0m\u001b[0m\n",
      "\u001b[1;32mC:\\ProgramData\\Anaconda3\\lib\\site-packages\\bs4\\element.py\u001b[0m in \u001b[0;36m__getattr__\u001b[1;34m(self, key)\u001b[0m\n\u001b[0;32m   2171\u001b[0m     \u001b[1;32mdef\u001b[0m \u001b[0m__getattr__\u001b[0m\u001b[1;33m(\u001b[0m\u001b[0mself\u001b[0m\u001b[1;33m,\u001b[0m \u001b[0mkey\u001b[0m\u001b[1;33m)\u001b[0m\u001b[1;33m:\u001b[0m\u001b[1;33m\u001b[0m\u001b[1;33m\u001b[0m\u001b[0m\n\u001b[0;32m   2172\u001b[0m         \u001b[1;34m\"\"\"Raise a helpful exception to explain a common code fix.\"\"\"\u001b[0m\u001b[1;33m\u001b[0m\u001b[1;33m\u001b[0m\u001b[0m\n\u001b[1;32m-> 2173\u001b[1;33m         raise AttributeError(\n\u001b[0m\u001b[0;32m   2174\u001b[0m             \u001b[1;34m\"ResultSet object has no attribute '%s'. You're probably treating a list of elements like a single element. Did you call find_all() when you meant to call find()?\"\u001b[0m \u001b[1;33m%\u001b[0m \u001b[0mkey\u001b[0m\u001b[1;33m\u001b[0m\u001b[1;33m\u001b[0m\u001b[0m\n\u001b[0;32m   2175\u001b[0m         )\n",
      "\u001b[1;31mAttributeError\u001b[0m: ResultSet object has no attribute 'attrs'. You're probably treating a list of elements like a single element. Did you call find_all() when you meant to call find()?"
     ]
    }
   ],
   "source": [
    "URL='https://scrapying-study.firebaseapp.com/03/'\n",
    "response=requests.get(URL)\n",
    "soup=BeautifulSoup(response.text,\"html.parser\")\n",
    "result=soup.select('img').attrs[\"alt\"]\n",
    "\n",
    "print(result)\n",
    "\n"
   ]
  },
  {
   "cell_type": "code",
   "execution_count": null,
   "metadata": {},
   "outputs": [],
   "source": [
    "popular_stock=[]\n",
    "for i in result:\n",
    "    popular_stock.append(i.text)\n",
    "popular_stock"
   ]
  },
  {
   "cell_type": "code",
   "execution_count": 211,
   "metadata": {},
   "outputs": [
    {
     "name": "stdout",
     "output_type": "stream",
     "text": [
      "[['써니전자', '5,000'], ['삼성전자', '55,200'], ['안랩', '81,000'], ['케이엠더블..', '57,300'], ['피피아이', '12,600'], ['KT&G', '92,500'], ['삼성전자우', '45,600'], ['대양금속', '10,550'], ['SK하이닉스', '94,700'], ['SK텔레콤', '234,000']]\n",
      "[['다우산업', '28,647.43'], ['나스닥', '9,015.03'], ['홍콩H', '11,320.56'], ['상해종합', '3,085.20'], ['니케이225', '23,656.62']]\n"
     ]
    }
   ],
   "source": [
    "URL='https://scrapying-study.firebaseapp.com/03/'\n",
    "response=requests.get(URL)\n",
    "soup=BeautifulSoup(response.text,\"html.parser\")\n",
    "\n",
    "stock=soup.select('a[href*=\"https://finance.naver.com/item/main.nhn?code=\"]')\n",
    "price=soup.select('ul.lst_pop span')\n",
    "\n",
    "stock_list=[st.get_text() for st in stock]\n",
    "price_list=[pr.get_text() for pr in price]\n",
    "\n",
    "stock_final=[]\n",
    "index_final=[]\n",
    "\n",
    "for i, j in zip(stock_list,price_list):\n",
    "    stock_final.append([i,j])\n",
    "    \n",
    "print(stock_final)\n",
    "\n",
    "indexx=soup.select('a[href*=\"https://finance.naver.com/world/sise.nhn?symbol=\"]')\n",
    "valuee=soup.select('ul.lst_major span')\n",
    "\n",
    "indexx_list=[st.get_text() for st in indexx]\n",
    "valuee_list=[pr.get_text() for pr in valuee]\n",
    "\n",
    "for i, j in zip(indexx_list,valuee_list):\n",
    "    index_final.append([i,j])\n",
    "    \n",
    "print(index_final)\n"
   ]
  },
  {
   "cell_type": "code",
   "execution_count": 229,
   "metadata": {},
   "outputs": [],
   "source": [
    "import re"
   ]
  },
  {
   "cell_type": "code",
   "execution_count": 233,
   "metadata": {},
   "outputs": [
    {
     "name": "stdout",
     "output_type": "stream",
     "text": [
      "<re.Match object; span=(0, 6), match='orange'>\n"
     ]
    }
   ],
   "source": [
    "text='orange i like orange! i love orange!'\n",
    "result=re.match('orange',text)   \n",
    "print(result) #orange"
   ]
  },
  {
   "cell_type": "code",
   "execution_count": 234,
   "metadata": {},
   "outputs": [
    {
     "name": "stdout",
     "output_type": "stream",
     "text": [
      "6\n"
     ]
    }
   ],
   "source": [
    "print(result.end())"
   ]
  },
  {
   "cell_type": "code",
   "execution_count": null,
   "metadata": {},
   "outputs": [],
   "source": []
  }
 ],
 "metadata": {
  "kernelspec": {
   "display_name": "study",
   "language": "python",
   "name": "study"
  },
  "language_info": {
   "codemirror_mode": {
    "name": "ipython",
    "version": 3
   },
   "file_extension": ".py",
   "mimetype": "text/x-python",
   "name": "python",
   "nbconvert_exporter": "python",
   "pygments_lexer": "ipython3",
   "version": "3.6.12"
  }
 },
 "nbformat": 4,
 "nbformat_minor": 4
}
