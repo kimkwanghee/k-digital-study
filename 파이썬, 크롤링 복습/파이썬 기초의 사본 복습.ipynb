{
 "cells": [
  {
   "cell_type": "code",
   "execution_count": 2,
   "metadata": {},
   "outputs": [
    {
     "name": "stdout",
     "output_type": "stream",
     "text": [
      "값을 입력해주세요:20\n",
      "값을 입력해주세요:30\n",
      "50\n"
     ]
    }
   ],
   "source": [
    "x=input('값을 입력해주세요:')\n",
    "y=input('값을 입력해주세요:')\n",
    "print(int(x)+int(y))"
   ]
  },
  {
   "cell_type": "code",
   "execution_count": 5,
   "metadata": {},
   "outputs": [
    {
     "name": "stdout",
     "output_type": "stream",
     "text": [
      "첫번째 값:80\n",
      "두번째 값:90\n",
      "세번째 값:70\n",
      "True\n"
     ]
    }
   ],
   "source": [
    "x=input('첫번째 값:')\n",
    "y=input('두번째 값:')\n",
    "z=input('세번째 값:')\n",
    "\n",
    "if (int(x) and int(y) and int(z))>65:\n",
    "    print('True')\n",
    "else:\n",
    "    print('False')"
   ]
  },
  {
   "cell_type": "code",
   "execution_count": 8,
   "metadata": {},
   "outputs": [
    {
     "data": {
      "text/plain": [
       "'hi kwanghee'"
      ]
     },
     "execution_count": 8,
     "metadata": {},
     "output_type": "execute_result"
    }
   ],
   "source": [
    "word='hello kwanghee'\n",
    "hi= word.replace('hello','hi')\n",
    "hi"
   ]
  },
  {
   "cell_type": "code",
   "execution_count": 9,
   "metadata": {},
   "outputs": [
    {
     "data": {
      "text/plain": [
       "'HELLO KWANGHEE'"
      ]
     },
     "execution_count": 9,
     "metadata": {},
     "output_type": "execute_result"
    }
   ],
   "source": [
    "word.upper()"
   ]
  },
  {
   "cell_type": "code",
   "execution_count": 10,
   "metadata": {},
   "outputs": [
    {
     "data": {
      "text/plain": [
       "'hello kwanghee'"
      ]
     },
     "execution_count": 10,
     "metadata": {},
     "output_type": "execute_result"
    }
   ],
   "source": [
    "word"
   ]
  },
  {
   "cell_type": "code",
   "execution_count": 12,
   "metadata": {},
   "outputs": [
    {
     "data": {
      "text/plain": [
       "'l like 4,1!!'"
      ]
     },
     "execution_count": 12,
     "metadata": {},
     "output_type": "execute_result"
    }
   ],
   "source": [
    "'l like {1},{0}!!'.format(1,4)"
   ]
  },
  {
   "cell_type": "code",
   "execution_count": 13,
   "metadata": {},
   "outputs": [
    {
     "name": "stdout",
     "output_type": "stream",
     "text": [
      "아무 문자나 입력해안녕 반가워 \n"
     ]
    },
    {
     "data": {
      "text/plain": [
       "'안녕반가워'"
      ]
     },
     "execution_count": 13,
     "metadata": {},
     "output_type": "execute_result"
    }
   ],
   "source": [
    "x=input('아무 문자나 입력해')\n",
    "x.replace(' ','')"
   ]
  },
  {
   "cell_type": "code",
   "execution_count": 14,
   "metadata": {},
   "outputs": [],
   "source": [
    "a=[]\n",
    "a=list()\n",
    "b=()\n",
    "b=tuple()"
   ]
  },
  {
   "cell_type": "code",
   "execution_count": 11,
   "metadata": {},
   "outputs": [
    {
     "data": {
      "text/plain": [
       "[1, 2, 3, 4, 5, 6]"
      ]
     },
     "execution_count": 11,
     "metadata": {},
     "output_type": "execute_result"
    }
   ],
   "source": [
    "a=[1,2,3,4,5]\n",
    "1 in a\n",
    "6 in a\n",
    "a.extend([6,7])\n",
    "a\n",
    "a.pop()\n",
    "a"
   ]
  },
  {
   "cell_type": "code",
   "execution_count": 16,
   "metadata": {},
   "outputs": [
    {
     "data": {
      "text/plain": [
       "[1, 2, 3, 4, 5]"
      ]
     },
     "execution_count": 16,
     "metadata": {},
     "output_type": "execute_result"
    }
   ],
   "source": [
    "a=[1,2,3,4,5]\n",
    "b=a.copy()\n",
    "b"
   ]
  },
  {
   "cell_type": "code",
   "execution_count": 19,
   "metadata": {},
   "outputs": [
    {
     "data": {
      "text/plain": [
       "False"
      ]
     },
     "execution_count": 19,
     "metadata": {},
     "output_type": "execute_result"
    }
   ],
   "source": [
    "a is b"
   ]
  },
  {
   "cell_type": "code",
   "execution_count": 20,
   "metadata": {},
   "outputs": [
    {
     "data": {
      "text/plain": [
       "[2, 4, 6, 8, 10]"
      ]
     },
     "execution_count": 20,
     "metadata": {},
     "output_type": "execute_result"
    }
   ],
   "source": [
    "a=[i for i in range(2,12,2)]"
   ]
  },
  {
   "cell_type": "code",
   "execution_count": 22,
   "metadata": {},
   "outputs": [
    {
     "name": "stdout",
     "output_type": "stream",
     "text": [
      "숫자를 입력해주세요:10\n"
     ]
    },
    {
     "data": {
      "text/plain": [
       "[1, 2, 3, 4, 5, 10, 10]"
      ]
     },
     "execution_count": 22,
     "metadata": {},
     "output_type": "execute_result"
    }
   ],
   "source": [
    "x=int(input('숫자를 입력해주세요:'))\n",
    "a.append(x)\n",
    "a"
   ]
  },
  {
   "cell_type": "code",
   "execution_count": 23,
   "metadata": {},
   "outputs": [],
   "source": [
    "score=dict(name='tom',math=80,english=70)"
   ]
  },
  {
   "cell_type": "code",
   "execution_count": 24,
   "metadata": {},
   "outputs": [
    {
     "data": {
      "text/plain": [
       "{'name': 'tom', 'math': 80, 'english': 70}"
      ]
     },
     "execution_count": 24,
     "metadata": {},
     "output_type": "execute_result"
    }
   ],
   "source": [
    "score"
   ]
  },
  {
   "cell_type": "code",
   "execution_count": 26,
   "metadata": {},
   "outputs": [
    {
     "name": "stdout",
     "output_type": "stream",
     "text": [
      "이름김\n",
      "나이26\n",
      "연락처01033323237\n",
      "{'이름': '김', '나이': '26', '연락처': '01033323237'}\n"
     ]
    }
   ],
   "source": [
    "name=input('이름')\n",
    "age=input('나이')\n",
    "phone=input('연락처')\n",
    "print({'이름':name,'나이':age,'연락처':phone})"
   ]
  },
  {
   "cell_type": "code",
   "execution_count": 27,
   "metadata": {},
   "outputs": [],
   "source": [
    "a=set('animal')"
   ]
  },
  {
   "cell_type": "code",
   "execution_count": 28,
   "metadata": {},
   "outputs": [
    {
     "data": {
      "text/plain": [
       "{'a', 'i', 'l', 'm', 'n'}"
      ]
     },
     "execution_count": 28,
     "metadata": {},
     "output_type": "execute_result"
    }
   ],
   "source": [
    "a"
   ]
  },
  {
   "cell_type": "code",
   "execution_count": 29,
   "metadata": {},
   "outputs": [
    {
     "data": {
      "text/plain": [
       "{1, 2, 3, 4, 5}"
      ]
     },
     "execution_count": 29,
     "metadata": {},
     "output_type": "execute_result"
    }
   ],
   "source": [
    "a={1,2,3}\n",
    "b={3,4,5}\n",
    "set.union(a,b)"
   ]
  },
  {
   "cell_type": "code",
   "execution_count": 36,
   "metadata": {},
   "outputs": [
    {
     "name": "stdout",
     "output_type": "stream",
     "text": [
      "카테고리: \n"
     ]
    }
   ],
   "source": [
    "fruit=['사과','오렌지']\n",
    "vegetable=['당근','호박']\n",
    "\n",
    "category=input('카테고리: ')\n",
    "if category=='채소':\n",
    "    vege=input('채소: ')\n",
    "    if vege not in vegetable:\n",
    "        vegetable.append(vege)\n",
    "    else:\n",
    "        print('이미 등록됨')\n",
    "elif category=='과일':\n",
    "    fru==input('과일: ')\n",
    "    if fru not in fruit:\n",
    "        fruit.append(fru)\n",
    "    else:\n",
    "        print('이미 등록됨')"
   ]
  },
  {
   "cell_type": "code",
   "execution_count": 38,
   "metadata": {},
   "outputs": [
    {
     "data": {
      "text/plain": [
       "['당근', '호박']"
      ]
     },
     "execution_count": 38,
     "metadata": {},
     "output_type": "execute_result"
    }
   ],
   "source": [
    "vegetable"
   ]
  },
  {
   "cell_type": "code",
   "execution_count": 46,
   "metadata": {},
   "outputs": [
    {
     "data": {
      "text/plain": [
       "[30, 60, 90, 200, -70, 50]"
      ]
     },
     "execution_count": 46,
     "metadata": {},
     "output_type": "execute_result"
    }
   ],
   "source": [
    "x=[3,6,9,20,-7,5]\n",
    "x=[i*10 for i in x]\n",
    "x    "
   ]
  },
  {
   "cell_type": "code",
   "execution_count": 51,
   "metadata": {},
   "outputs": [
    {
     "data": {
      "text/plain": [
       "{'math': 80, 'science': 90, 'english': 30}"
      ]
     },
     "execution_count": 51,
     "metadata": {},
     "output_type": "execute_result"
    }
   ],
   "source": [
    "y={'math':70,'science':80,'english':20}\n",
    "\n",
    "for key,value in y.items():\n",
    "    value=value+10\n",
    "    y[key]=value\n",
    "y"
   ]
  },
  {
   "cell_type": "code",
   "execution_count": 55,
   "metadata": {},
   "outputs": [
    {
     "name": "stdout",
     "output_type": "stream",
     "text": [
      "몇단을 출력하시겠습니까?10\n",
      "10*1=10\n",
      "10*2=20\n",
      "10*3=30\n",
      "10*4=40\n",
      "10*5=50\n",
      "10*6=60\n",
      "10*7=70\n",
      "10*8=80\n"
     ]
    }
   ],
   "source": [
    "gugu=int(input('몇단을 출력하시겠습니까?'))\n",
    "for i in range(1,9):\n",
    "    print('{}*{}={}'.format(gugu,i,gugu*i))"
   ]
  },
  {
   "cell_type": "code",
   "execution_count": 56,
   "metadata": {},
   "outputs": [
    {
     "name": "stdout",
     "output_type": "stream",
     "text": [
      "1\n",
      "2\n",
      "3의 배수\n",
      "4\n",
      "5의 배수\n",
      "3의 배수\n",
      "7\n",
      "8\n",
      "3의 배수\n",
      "5의 배수\n",
      "11\n",
      "3의 배수\n",
      "13\n",
      "14\n",
      "3과 5 공배수\n",
      "16\n",
      "17\n",
      "3의 배수\n",
      "19\n",
      "5의 배수\n",
      "3의 배수\n",
      "22\n",
      "23\n",
      "3의 배수\n",
      "5의 배수\n",
      "26\n",
      "3의 배수\n",
      "28\n",
      "29\n",
      "3과 5 공배수\n",
      "31\n",
      "32\n",
      "3의 배수\n",
      "34\n",
      "5의 배수\n",
      "3의 배수\n",
      "37\n",
      "38\n",
      "3의 배수\n",
      "5의 배수\n",
      "41\n",
      "3의 배수\n",
      "43\n",
      "44\n",
      "3과 5 공배수\n",
      "46\n",
      "47\n",
      "3의 배수\n",
      "49\n",
      "5의 배수\n",
      "3의 배수\n",
      "52\n",
      "53\n",
      "3의 배수\n",
      "5의 배수\n",
      "56\n",
      "3의 배수\n",
      "58\n",
      "59\n",
      "3과 5 공배수\n",
      "61\n",
      "62\n",
      "3의 배수\n",
      "64\n",
      "5의 배수\n",
      "3의 배수\n",
      "67\n",
      "68\n",
      "3의 배수\n",
      "5의 배수\n",
      "71\n",
      "3의 배수\n",
      "73\n",
      "74\n",
      "3과 5 공배수\n",
      "76\n",
      "77\n",
      "3의 배수\n",
      "79\n",
      "5의 배수\n",
      "3의 배수\n",
      "82\n",
      "83\n",
      "3의 배수\n",
      "5의 배수\n",
      "86\n",
      "3의 배수\n",
      "88\n",
      "89\n",
      "3과 5 공배수\n",
      "91\n",
      "92\n",
      "3의 배수\n",
      "94\n",
      "5의 배수\n",
      "3의 배수\n",
      "97\n",
      "98\n",
      "3의 배수\n",
      "5의 배수\n"
     ]
    }
   ],
   "source": [
    "for i in range(1,101):\n",
    "    if i%3==i%5==0:\n",
    "        print('3과 5 공배수')\n",
    "    elif i%3==0:\n",
    "        print('3의 배수')\n",
    "    elif i%5==0:\n",
    "        print('5의 배수')\n",
    "    else:\n",
    "        print(i)"
   ]
  },
  {
   "cell_type": "code",
   "execution_count": 64,
   "metadata": {},
   "outputs": [
    {
     "name": "stdout",
     "output_type": "stream",
     "text": [
      "값: 20\n",
      "값: 30\n",
      "값: 40\n",
      "값: 0\n",
      "90\n"
     ]
    }
   ],
   "source": [
    "i=0\n",
    "x=1\n",
    "while x!=0:\n",
    "    x=int(input('값: '))\n",
    "    i=i+x\n",
    "print(i)"
   ]
  },
  {
   "cell_type": "code",
   "execution_count": null,
   "metadata": {},
   "outputs": [],
   "source": [
    "import random\n",
    "random.random()"
   ]
  },
  {
   "cell_type": "code",
   "execution_count": 80,
   "metadata": {},
   "outputs": [
    {
     "name": "stdout",
     "output_type": "stream",
     "text": [
      "가위(1) 바위(2) 보(3)를 입력해주세요: 3\n",
      "가위(1) 바위(2) 보(3)를 입력해주세요: 2\n",
      "가위(1) 바위(2) 보(3)를 입력해주세요: 3\n",
      "가위(1) 바위(2) 보(3)를 입력해주세요: 1\n",
      "가위(1) 바위(2) 보(3)를 입력해주세요: 4\n",
      "게임종료 전체:4, 승리:2\n"
     ]
    }
   ],
   "source": [
    "vic=0\n",
    "total=0\n",
    "computer=1\n",
    "while 1<=computer<=3:\n",
    "    computer=int(input('가위(1) 바위(2) 보(3)를 입력해주세요: '))\n",
    "    user=random.randint(1,3)\n",
    "    total+=1ㅋ\n",
    "    if user==3 and computer==2:\n",
    "        vic+=1 \n",
    "    elif user==2 and computer==1:\n",
    "        vic+=1\n",
    "    elif user==1 and computer==3:\n",
    "        vic+=1\n",
    "print('게임종료 전체:{}, 승리:{}'.format(total-1,vic))\n",
    "\n"
   ]
  },
  {
   "cell_type": "code",
   "execution_count": 81,
   "metadata": {},
   "outputs": [],
   "source": [
    "fruit_list=['사과','배','옥수수','당근']\n",
    "fruit=\" \".join(fruit_list)"
   ]
  },
  {
   "cell_type": "code",
   "execution_count": 82,
   "metadata": {},
   "outputs": [
    {
     "data": {
      "text/plain": [
       "'사과 배 옥수수 당근'"
      ]
     },
     "execution_count": 82,
     "metadata": {},
     "output_type": "execute_result"
    }
   ],
   "source": [
    "fruit"
   ]
  },
  {
   "cell_type": "code",
   "execution_count": 83,
   "metadata": {},
   "outputs": [],
   "source": [
    "a=[i for i in range(10) if i%2==0]"
   ]
  },
  {
   "cell_type": "code",
   "execution_count": 86,
   "metadata": {},
   "outputs": [
    {
     "data": {
      "text/plain": [
       "['school', 'science', 'mountain']"
      ]
     },
     "execution_count": 86,
     "metadata": {},
     "output_type": "execute_result"
    }
   ],
   "source": [
    "word=['school','game','piano','science','hotel','mountain']\n",
    "\n",
    "new_word=[i for i in  word if len(i)>=6]\n",
    "new_word"
   ]
  },
  {
   "cell_type": "code",
   "execution_count": 87,
   "metadata": {},
   "outputs": [],
   "source": [
    "word=['school','game','piano','science','hotel','mountain']\n",
    "\n",
    "word_len=[len(i) for i in word]"
   ]
  },
  {
   "cell_type": "code",
   "execution_count": 88,
   "metadata": {},
   "outputs": [
    {
     "data": {
      "text/plain": [
       "[6, 4, 5, 7, 5, 8]"
      ]
     },
     "execution_count": 88,
     "metadata": {},
     "output_type": "execute_result"
    }
   ],
   "source": [
    "word_len"
   ]
  },
  {
   "cell_type": "code",
   "execution_count": 89,
   "metadata": {},
   "outputs": [
    {
     "name": "stdout",
     "output_type": "stream",
     "text": [
      "10 20\n",
      "30 40\n",
      "50 60\n"
     ]
    }
   ],
   "source": [
    "a=[[10,20],[30,40],[50,60]]\n",
    "for x,y in a:\n",
    "    print(x,y)"
   ]
  },
  {
   "cell_type": "code",
   "execution_count": 96,
   "metadata": {},
   "outputs": [
    {
     "name": "stdout",
     "output_type": "stream",
     "text": [
      "10,20,30,40,50,60,"
     ]
    }
   ],
   "source": [
    "for i in a:\n",
    "    for j in i:\n",
    "        print(j,end=',')\n"
   ]
  },
  {
   "cell_type": "code",
   "execution_count": 98,
   "metadata": {},
   "outputs": [
    {
     "data": {
      "text/plain": [
       "[[20, 60], [120, 200], [300, 420]]"
      ]
     },
     "execution_count": 98,
     "metadata": {},
     "output_type": "execute_result"
    }
   ],
   "source": [
    "a=[[10,20],[30,40],[50,60]]\n",
    "b=[[2,3],[4,5],[6,7]]\n",
    "new_list1=[]\n",
    "for i in range(len(a)):\n",
    "    new_list=[]\n",
    "    for j in range(len(a[i])):\n",
    "        x=a[i][j]*b[i][j]\n",
    "        new_list.append(x)\n",
    "    new_list1.append(new_list)\n",
    "new_list1"
   ]
  },
  {
   "cell_type": "code",
   "execution_count": 102,
   "metadata": {},
   "outputs": [
    {
     "name": "stdout",
     "output_type": "stream",
     "text": [
      "[[1, 2], [3, 4], [5, 6]]\n"
     ]
    }
   ],
   "source": [
    "a=[] \n",
    "num=0\n",
    "for i in range(3):\n",
    "    temp=[]\n",
    "    for j in range(2):\n",
    "        num=num+1\n",
    "        temp.append(num)\n",
    "    a.append(temp)\n",
    "print(a)\n"
   ]
  },
  {
   "cell_type": "code",
   "execution_count": 103,
   "metadata": {},
   "outputs": [],
   "source": [
    "file=open('file.txt','w')\n",
    "file.write('first file')\n",
    "file.close()"
   ]
  },
  {
   "cell_type": "code",
   "execution_count": 107,
   "metadata": {},
   "outputs": [
    {
     "name": "stdout",
     "output_type": "stream",
     "text": [
      "first file\n"
     ]
    }
   ],
   "source": [
    "file=open('file.txt','r')\n",
    "print(file.read())\n",
    "\n",
    "file.close()"
   ]
  },
  {
   "cell_type": "code",
   "execution_count": 109,
   "metadata": {},
   "outputs": [
    {
     "name": "stdout",
     "output_type": "stream",
     "text": [
      "first file\n"
     ]
    }
   ],
   "source": [
    "with open('file.txt','r') as file:\n",
    "    text=file.read()\n",
    "    print(text)"
   ]
  },
  {
   "cell_type": "code",
   "execution_count": 150,
   "metadata": {},
   "outputs": [],
   "source": [
    "import pickle\n",
    "text=['FirstFile','SecondLine']\n",
    "with open('data.pkl','wb')as file:#data파일을바이너리쓰기모드로열기\n",
    "    pickle.dump(text,file)"
   ]
  },
  {
   "cell_type": "code",
   "execution_count": 151,
   "metadata": {},
   "outputs": [
    {
     "name": "stdout",
     "output_type": "stream",
     "text": [
      "['FirstFile', 'SecondLine']\n"
     ]
    }
   ],
   "source": [
    "import pickle\n",
    "with open('data.pkl','rb') as file:#data파일을바이너리읽기모드로열기\n",
    "    data=pickle.load(file)\n",
    "    print(data)\n"
   ]
  },
  {
   "cell_type": "code",
   "execution_count": 154,
   "metadata": {},
   "outputs": [],
   "source": [
    "import pickle\n",
    "name='tom'\n",
    "age=24\n",
    "address='서울시 마포구'\n",
    "scores={'python':90,'deeplearning':95,'database':85}\n",
    "\n",
    "with open('data2.pkl','wb' ) as file:\n",
    "    pickle.dump(name,file)\n",
    "    pickle.dump(age,file)\n",
    "    pickle.dump(address,file)\n",
    "    pickle.dump(scores,file)"
   ]
  },
  {
   "cell_type": "code",
   "execution_count": 156,
   "metadata": {},
   "outputs": [
    {
     "name": "stdout",
     "output_type": "stream",
     "text": [
      "서울시 마포구\n"
     ]
    }
   ],
   "source": [
    "import pickle\n",
    "with open('data2.pkl','rb')as file:\n",
    "    name2=pickle.load(file)\n",
    "    age2=pickle.load(file)\n",
    "    address2=pickle.load(file)\n",
    "    scores2=pickle.load(file)\n",
    "    print(address)"
   ]
  },
  {
   "cell_type": "code",
   "execution_count": 163,
   "metadata": {},
   "outputs": [],
   "source": [
    "lis=[1,2,3,1,4,2,1]\n",
    "\n",
    "def allindex(x,y):\n",
    "    new_list=[]\n",
    "    index=0\n",
    "    for i in x:\n",
    "        if i==y:\n",
    "            new_list.append(index)\n",
    "        index+=1\n",
    "    return new_list"
   ]
  },
  {
   "cell_type": "code",
   "execution_count": 164,
   "metadata": {},
   "outputs": [
    {
     "data": {
      "text/plain": [
       "[0, 3, 6]"
      ]
     },
     "execution_count": 164,
     "metadata": {},
     "output_type": "execute_result"
    }
   ],
   "source": [
    "allindex(lis,1)"
   ]
  },
  {
   "cell_type": "code",
   "execution_count": 165,
   "metadata": {},
   "outputs": [
    {
     "name": "stdout",
     "output_type": "stream",
     "text": [
      "1\n",
      "1\n",
      "2\n",
      "3\n",
      "4\n",
      "5\n"
     ]
    }
   ],
   "source": [
    "def func(*args):  #가변인수= *변수  고정인수는 *있는 것\n",
    "    for arg in args:\n",
    "        print(arg)\n",
    "func(1)\n",
    "func(1,2,3,4,5)"
   ]
  },
  {
   "cell_type": "code",
   "execution_count": 166,
   "metadata": {},
   "outputs": [
    {
     "name": "stdout",
     "output_type": "stream",
     "text": [
      "10012345"
     ]
    }
   ],
   "source": [
    "def func(a,*args):\n",
    "    print(a,end=\"\")\n",
    "    for arg in args:\n",
    "        print(arg,end='')\n",
    "func(100,1,2,3,4,5)"
   ]
  },
  {
   "cell_type": "code",
   "execution_count": 167,
   "metadata": {},
   "outputs": [
    {
     "name": "stdout",
     "output_type": "stream",
     "text": [
      "이메일: aa@aa.com\n",
      "이름: tom\n",
      "이메일: aa@aa.com\n",
      "이름: tom\n",
      "이메일: aa@aa.com\n",
      "이름: tom\n"
     ]
    }
   ],
   "source": [
    "def func(email,name):\n",
    "    print(\"이메일:\",email)\n",
    "    print(\"이름:\",name)\n",
    "func(email='aa@aa.com',name='tom')\n",
    "func('aa@aa.com','tom')\n",
    "x={'email':'aa@aa.com','name':'tom'}\n",
    "func(**x)"
   ]
  },
  {
   "cell_type": "code",
   "execution_count": 168,
   "metadata": {},
   "outputs": [
    {
     "name": "stdout",
     "output_type": "stream",
     "text": [
      "이메일: aa@aa.com\n",
      "이름: tom\n",
      "이메일: aa@aa.com\n",
      "이름: tom\n",
      "이메일: aa@aa.com\n",
      "이름: tom\n"
     ]
    }
   ],
   "source": [
    "def func(email,name):\n",
    "    print('이메일:',email)\n",
    "    print('이름:',name)\n",
    "\n",
    "x={'email':'aa@aa.com','name':'tom'} \n",
    "func(email='aa@aa.com',name='tom')\n",
    "func('aa@aa.com','tom')\n",
    "func(**x)"
   ]
  },
  {
   "cell_type": "code",
   "execution_count": 172,
   "metadata": {},
   "outputs": [
    {
     "data": {
      "text/plain": [
       "15"
      ]
     },
     "execution_count": 172,
     "metadata": {},
     "output_type": "execute_result"
    }
   ],
   "source": [
    "def calc(calcular,*lis):\n",
    "    if calcular=='+':\n",
    "        total=0\n",
    "        for i in lis:\n",
    "            total=total+i\n",
    "    return total\n",
    "calc('+',1,2,3,4,5)"
   ]
  },
  {
   "cell_type": "code",
   "execution_count": 173,
   "metadata": {},
   "outputs": [
    {
     "name": "stdout",
     "output_type": "stream",
     "text": [
      "재귀함수\n",
      "재귀함수\n",
      "재귀함수\n",
      "재귀함수\n",
      "재귀함수\n"
     ]
    }
   ],
   "source": [
    "def test(end):\n",
    "    if end==0:\n",
    "        return\n",
    "    print('재귀함수')\n",
    "    end-=1\n",
    "    test(end)   #재귀함수\n",
    "test(5)"
   ]
  },
  {
   "cell_type": "code",
   "execution_count": 178,
   "metadata": {},
   "outputs": [
    {
     "data": {
      "text/plain": [
       "15"
      ]
     },
     "execution_count": 178,
     "metadata": {},
     "output_type": "execute_result"
    }
   ],
   "source": [
    "def f_sum(num):\n",
    "    if num==0:\n",
    "        return 0\n",
    "    return num+f_sum(num-1)\n",
    "f_sum(5)"
   ]
  },
  {
   "cell_type": "code",
   "execution_count": 180,
   "metadata": {},
   "outputs": [
    {
     "data": {
      "text/plain": [
       "11"
      ]
     },
     "execution_count": 180,
     "metadata": {},
     "output_type": "execute_result"
    }
   ],
   "source": [
    "(lambda x:x+10)(1)"
   ]
  },
  {
   "cell_type": "code",
   "execution_count": 181,
   "metadata": {},
   "outputs": [
    {
     "data": {
      "text/plain": [
       "21"
      ]
     },
     "execution_count": 181,
     "metadata": {},
     "output_type": "execute_result"
    }
   ],
   "source": [
    "y=20\n",
    "(lambda x:x+y)(1)"
   ]
  },
  {
   "cell_type": "code",
   "execution_count": 182,
   "metadata": {},
   "outputs": [
    {
     "data": {
      "text/plain": [
       "21"
      ]
     },
     "execution_count": 182,
     "metadata": {},
     "output_type": "execute_result"
    }
   ],
   "source": [
    "(lambda x:x+y)(1)"
   ]
  },
  {
   "cell_type": "code",
   "execution_count": 184,
   "metadata": {},
   "outputs": [
    {
     "data": {
      "text/plain": [
       "[1, 2, 3, 4, 5, 6, 7, 8, 9, 10]"
      ]
     },
     "execution_count": 184,
     "metadata": {},
     "output_type": "execute_result"
    }
   ],
   "source": [
    "a=[i for i in range(1,11)]\n",
    "a"
   ]
  },
  {
   "cell_type": "code",
   "execution_count": 185,
   "metadata": {},
   "outputs": [
    {
     "data": {
      "text/plain": [
       "[1, 0, 3, 0, 5, 0, 7, 0, 9, 0]"
      ]
     },
     "execution_count": 185,
     "metadata": {},
     "output_type": "execute_result"
    }
   ],
   "source": [
    "def f(x):\n",
    "    if x%2==0:\n",
    "        return 0\n",
    "    else:\n",
    "        return x\n",
    "\n",
    "list(map(f,a))"
   ]
  },
  {
   "cell_type": "code",
   "execution_count": 187,
   "metadata": {},
   "outputs": [
    {
     "data": {
      "text/plain": [
       "[1, 0, 3, 0, 5, 0, 7, 0, 9, 0]"
      ]
     },
     "execution_count": 187,
     "metadata": {},
     "output_type": "execute_result"
    }
   ],
   "source": [
    "list(map(lambda x:0 if x%2==0 else x, a))"
   ]
  },
  {
   "cell_type": "code",
   "execution_count": 188,
   "metadata": {},
   "outputs": [
    {
     "data": {
      "text/plain": [
       "[3, 4]"
      ]
     },
     "execution_count": 188,
     "metadata": {},
     "output_type": "execute_result"
    }
   ],
   "source": [
    "list(filter(lambda x: x>2 and x<5,a))"
   ]
  },
  {
   "cell_type": "code",
   "execution_count": 195,
   "metadata": {},
   "outputs": [
    {
     "data": {
      "text/plain": [
       "['불합격', '불합격', '대기', '불합격', '불합격', '불합격', '합격', '대기']"
      ]
     },
     "execution_count": 195,
     "metadata": {},
     "output_type": "execute_result"
    }
   ],
   "source": [
    "numbers=[12,32,55,12,32,4,86,50]\n",
    "list(map(lambda x: '합격' if x>60 else '대기'if  50<=x<=60 else '불합격',numbers))"
   ]
  },
  {
   "cell_type": "code",
   "execution_count": 199,
   "metadata": {},
   "outputs": [
    {
     "data": {
      "text/plain": [
       "['1.jpg', '23.jpg', '223.jpg']"
      ]
     },
     "execution_count": 199,
     "metadata": {},
     "output_type": "execute_result"
    }
   ],
   "source": [
    "files=['memo.txt','1.jpg','32.png','23.jpg','223.jpg']\n",
    "list(filter(lambda x: x.find('.jpg')!=-1 ,files))"
   ]
  },
  {
   "cell_type": "code",
   "execution_count": 200,
   "metadata": {},
   "outputs": [
    {
     "name": "stdout",
     "output_type": "stream",
     "text": [
      "예외오류발생\n"
     ]
    }
   ],
   "source": [
    "try:\n",
    "    print(10/0)\n",
    "except:\n",
    "    print('예외오류발생')"
   ]
  },
  {
   "cell_type": "code",
   "execution_count": 204,
   "metadata": {},
   "outputs": [
    {
     "name": "stdout",
     "output_type": "stream",
     "text": [
      "잘못된 인덱스 list index out of range\n"
     ]
    }
   ],
   "source": [
    "x=[1,2,3]\n",
    "try:\n",
    "    print(10/0)\n",
    "    x[5]\n",
    "except ZeroDivisionError as e:\n",
    "    print('숫자를 0으로 나눌수 없음', e)\n",
    "except IndexError as e:\n",
    "    print('잘못된 인덱스', e)"
   ]
  },
  {
   "cell_type": "code",
   "execution_count": 205,
   "metadata": {},
   "outputs": [
    {
     "name": "stdout",
     "output_type": "stream",
     "text": [
      "['C:\\\\jupyter\\\\kdigital_lecture\\\\복습 파일', 'C:\\\\ProgramData\\\\Anaconda3\\\\python38.zip', 'C:\\\\ProgramData\\\\Anaconda3\\\\DLLs', 'C:\\\\ProgramData\\\\Anaconda3\\\\lib', 'C:\\\\ProgramData\\\\Anaconda3', '', 'C:\\\\ProgramData\\\\Anaconda3\\\\lib\\\\site-packages', 'C:\\\\ProgramData\\\\Anaconda3\\\\lib\\\\site-packages\\\\win32', 'C:\\\\ProgramData\\\\Anaconda3\\\\lib\\\\site-packages\\\\win32\\\\lib', 'C:\\\\ProgramData\\\\Anaconda3\\\\lib\\\\site-packages\\\\Pythonwin', 'C:\\\\ProgramData\\\\Anaconda3\\\\lib\\\\site-packages\\\\IPython\\\\extensions', 'C:\\\\Users\\\\kimkwanghee\\\\.ipython']\n"
     ]
    }
   ],
   "source": [
    "import sys\n",
    "print(sys.path)"
   ]
  },
  {
   "cell_type": "code",
   "execution_count": null,
   "metadata": {},
   "outputs": [],
   "source": []
  }
 ],
 "metadata": {
  "kernelspec": {
   "display_name": "Python 3",
   "language": "python",
   "name": "python3"
  },
  "language_info": {
   "codemirror_mode": {
    "name": "ipython",
    "version": 3
   },
   "file_extension": ".py",
   "mimetype": "text/x-python",
   "name": "python",
   "nbconvert_exporter": "python",
   "pygments_lexer": "ipython3",
   "version": "3.8.5"
  }
 },
 "nbformat": 4,
 "nbformat_minor": 4
}
