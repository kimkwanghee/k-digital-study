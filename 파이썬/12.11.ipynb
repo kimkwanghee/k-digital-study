{
 "cells": [
  {
   "cell_type": "code",
   "execution_count": 12,
   "metadata": {},
   "outputs": [
    {
     "data": {
      "text/plain": [
       "8"
      ]
     },
     "execution_count": 12,
     "metadata": {},
     "output_type": "execute_result"
    }
   ],
   "source": [
    "file = open(\"test.txt\", \"w\", encoding=\"utf-8\")\n",
    "file.write(\"test 입니다\")\n",
    "file.close()"
   ]
  },
  {
   "cell_type": "code",
   "execution_count": 14,
   "metadata": {},
   "outputs": [
    {
     "data": {
      "text/plain": [
       "'test 입니다'"
      ]
     },
     "execution_count": 14,
     "metadata": {},
     "output_type": "execute_result"
    }
   ],
   "source": [
    "file2 = open(\"test.txt\", encoding=\"utf-8\")\n",
    "text = file2.read()\n",
    "file2.close()\n",
    "text"
   ]
  },
  {
   "cell_type": "code",
   "execution_count": 8,
   "metadata": {},
   "outputs": [],
   "source": [
    "with open(\"test.txt\", \"w\", encoding=\"utf-8\") as f:\n",
    "    f.write(\"close 꼭 해주세요\")"
   ]
  },
  {
   "cell_type": "code",
   "execution_count": 8,
   "metadata": {},
   "outputs": [],
   "source": [
    "def get_inputdata():\n",
    "    name = input(\"이름 : \")\n",
    "    math = int(input(\"수학 : \"))\n",
    "    science = int(input(\"과학 : \"))\n",
    "    english = int(input(\"영어 : \"))\n",
    "    \n",
    "    return name, math, science, english"
   ]
  },
  {
   "cell_type": "code",
   "execution_count": 9,
   "metadata": {},
   "outputs": [],
   "source": [
    "def display_all(scores):\n",
    "    for i, user in enumerate(scores):\n",
    "        print(f'[{i}] 이름 : {user[\"이름\"]}, 수학 : {user[\"수학\"]}, 과학 : {user[\"과학\"]}, 영어 : {user[\"영어\"]}')"
   ]
  },
  {
   "cell_type": "code",
   "execution_count": 10,
   "metadata": {},
   "outputs": [
    {
     "name": "stdout",
     "output_type": "stream",
     "text": [
      "메뉴를 선택해주세요 1 - 입력, 2 - 조회, 3 - 삭제, 0 - 종료)2\n",
      "메뉴를 선택해주세요 1 - 입력, 2 - 조회, 3 - 삭제, 0 - 종료)1\n",
      "이름 : 3\n",
      "수학 : 4\n",
      "과학 : 4\n",
      "영어 : 3\n",
      "메뉴를 선택해주세요 1 - 입력, 2 - 조회, 3 - 삭제, 0 - 종료)2\n",
      "[0] 이름 : 3, 수학 : 4, 과학 : 4, 영어 : 3\n",
      "메뉴를 선택해주세요 1 - 입력, 2 - 조회, 3 - 삭제, 0 - 종료)0\n"
     ]
    },
    {
     "data": {
      "text/plain": [
       "[{'이름': '3', '수학': 4, '과학': 4, '영어': 3}]"
      ]
     },
     "execution_count": 10,
     "metadata": {},
     "output_type": "execute_result"
    }
   ],
   "source": [
    "import pickle\n",
    "import os.path\n",
    "\n",
    "filename = \"scores.pkl\"\n",
    "\n",
    "if os.path.exists(filename):\n",
    "    with open(filename, \"rb\") as f:   #바이너리 이진 파일 읽기모드 \n",
    "        scores = pickle.load(f)   #f 데이터를 load 메소드를 통하여 파일 입력\n",
    "else:\n",
    "    scores = []\n",
    "\n",
    "\n",
    "while True:\n",
    "    menu = input(\"메뉴를 선택해주세요 1 - 입력, 2 - 조회, 3 - 삭제, 0 - 종료)\")\n",
    "    if menu == \"1\":\n",
    "        #입력    \n",
    "        name, math, science, english = get_inputdata()     #함수 get_inputdata()\n",
    "        scores.append({\"이름\":name, \"수학\":math, \"과학\":science, \"영어\":english})\n",
    "        \n",
    "    elif menu == \"2\":\n",
    "        #조회\n",
    "        display_all(scores)\n",
    "            \n",
    "    elif menu == \"3\":\n",
    "        #삭제\n",
    "        display_all(scores)\n",
    "        \n",
    "        del_index = int(input(\"삭제할 번호를 입력해주세요 :\"))\n",
    "        scores.pop(del_index)\n",
    "        print(\"삭제가 완료되었습니다.\")\n",
    "        \n",
    "        \n",
    "    elif menu == \"0\":\n",
    "        #종료\n",
    "        #파일 저장\n",
    "        with open(filename, \"wb\") as f:   #바이너리 이진 파일 쓰기 모드 \n",
    "            pickle.dump(scores, f)   #dump 메소드를 통하여 scores에 f 데이터를 전달 \n",
    "            \n",
    "        break\n",
    "\n",
    "scores"
   ]
  },
  {
   "cell_type": "code",
   "execution_count": 13,
   "metadata": {},
   "outputs": [
    {
     "data": {
      "text/plain": [
       "['1.jpg', '23.jpg', '223.jpg']"
      ]
     },
     "execution_count": 13,
     "metadata": {},
     "output_type": "execute_result"
    }
   ],
   "source": [
    "files=['memo.txt','1.jpg','32.png','23.jpg','223.jpg']\n",
    "list(filter(lambda x: x.find('jpg')!=-1,files)) "
   ]
  },
  {
   "cell_type": "code",
   "execution_count": null,
   "metadata": {},
   "outputs": [],
   "source": []
  }
 ],
 "metadata": {
  "kernelspec": {
   "display_name": "Python 3",
   "language": "python",
   "name": "python3"
  },
  "language_info": {
   "codemirror_mode": {
    "name": "ipython",
    "version": 3
   },
   "file_extension": ".py",
   "mimetype": "text/x-python",
   "name": "python",
   "nbconvert_exporter": "python",
   "pygments_lexer": "ipython3",
   "version": "3.8.5"
  }
 },
 "nbformat": 4,
 "nbformat_minor": 4
}
