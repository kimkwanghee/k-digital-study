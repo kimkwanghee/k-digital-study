{
 "cells": [
  {
   "cell_type": "code",
   "execution_count": 1,
   "metadata": {},
   "outputs": [],
   "source": [
    "##choco=Dog()에서 choco는 객체 클래스는 설계도 self는 객체 , self는 객체와 관련\n",
    "##인스턴스는 설계도를 바탕으로 소프트웨어 세계에 구현된 구체적인 실체\n",
    "#객체는 설계도를 바탕으로 소프트웨어 세계에 구현된 구체적인 실체,설계도를 바탕으로 소프트웨어 세계에 구현된 구체적인 실체"
   ]
  },
  {
   "cell_type": "code",
   "execution_count": 108,
   "metadata": {},
   "outputs": [],
   "source": [
    "class Dog:\n",
    "    def __init__(self,name,color): #self는 인스턴스 즉 클래스 dog안의 객체를 인스턴스 \n",
    "        self.hungry=0   #인스턴스 속성 값 0으로 초기화\n",
    "        self.name=name   #인스턴스 name속성을 name으로 초기화 다른 인스턴스메서드에서 name사용가능\n",
    "        self.color=color  #인스턴스 color 속성을 color로 초기화 다른 인스턴스메서드에서 color사용가능\n",
    "        \n",
    "    def eat(self): #인스턴스 매서드 -> 인스턴스로 접근\n",
    "        self.hungry-= 10  \n",
    "        print('eat',self.hungry)\n",
    "    def walk(self):\n",
    "        self.hungry+= 10\n",
    "        print('walk',self.hungry)\n",
    "    def showme(self):\n",
    "        print(f\"{self.name}:{self.color}\")"
   ]
  },
  {
   "cell_type": "code",
   "execution_count": 110,
   "metadata": {},
   "outputs": [],
   "source": [
    "class Dog:   #dog라는 클래스 정의\n",
    "    def __init__(self,name,color): # self 인스턴스 정의 init함수라 무조건 실행\n",
    "        self.hungry=0\n",
    "        self.name=name\n",
    "        self.color=color\n",
    "    \n",
    "    def eat(self):   #인스턴스의 함수\n",
    "        self.hungry-=10\n",
    "        print('밥먹음',self.hungry)\n",
    "    \n",
    "    def walk(self):\n",
    "        self.hungry+=10\n",
    "        print('산책',self.hungry)\n",
    "    def showme(self):\n",
    "        print(f\"{self.name}:{self.color}\")\n",
    "        "
   ]
  },
  {
   "cell_type": "code",
   "execution_count": 113,
   "metadata": {},
   "outputs": [
    {
     "name": "stdout",
     "output_type": "stream",
     "text": [
      "밥먹음 -10\n",
      "밥먹음 -20\n",
      "산책 -10\n",
      "choco:black\n"
     ]
    }
   ],
   "source": [
    "choco=Dog('choco','black')   #클래스 객체화\n",
    "choco.eat()\n",
    "choco.eat()\n",
    "choco.walk()\n",
    "choco.showme()"
   ]
  },
  {
   "cell_type": "code",
   "execution_count": 114,
   "metadata": {},
   "outputs": [
    {
     "name": "stdout",
     "output_type": "stream",
     "text": [
      "밥먹음 -10\n",
      "밥먹음 -20\n",
      "choco:black\n"
     ]
    }
   ],
   "source": [
    "choco=Dog('choco','black')\n",
    "choco.eat()\n",
    "choco.eat()\n",
    "choco.showme()"
   ]
  },
  {
   "cell_type": "code",
   "execution_count": 36,
   "metadata": {},
   "outputs": [
    {
     "name": "stdout",
     "output_type": "stream",
     "text": [
      "walk 10\n",
      "dd:white\n"
     ]
    }
   ],
   "source": [
    "jjong=Dog('dd','white')\n",
    "jjong.walk()\n",
    "jjong.showme()"
   ]
  },
  {
   "cell_type": "code",
   "execution_count": 49,
   "metadata": {},
   "outputs": [],
   "source": [
    "class Dog:\n",
    "    dog_count=0\n",
    "    \n",
    "    def __init__(self,name,color):\n",
    "        self.name=name\n",
    "        self.color=color\n",
    "        self.dog_count=0\n",
    "        Dog.dog_count+=1\n",
    "        \n",
    "    def dogCount(self):\n",
    "        self.dog_count+=1\n",
    "        print('총 강아지는',Dog.dog_count)\n",
    "        print('내 강아지는',self.dog_count)"
   ]
  },
  {
   "cell_type": "code",
   "execution_count": 115,
   "metadata": {},
   "outputs": [
    {
     "data": {
      "text/plain": [
       "1"
      ]
     },
     "execution_count": 115,
     "metadata": {},
     "output_type": "execute_result"
    }
   ],
   "source": [
    "class Dog:\n",
    "    dog_count=0\n",
    "    \n",
    "    def __init__(self,name,color):\n",
    "        self.name=name\n",
    "        self.color=color\n",
    "        Dog.dog_count+=1\n",
    "    \n",
    "    def dogCount(self):\n",
    "        self.dog_count+=1\n",
    "        print('총강아지는 ', Dog.dog_count)\n",
    "        print('내 강아지는 ',self.dog_count)\n",
    "hi=Dog('hello','black')\n",
    "hi.dog_count"
   ]
  },
  {
   "cell_type": "code",
   "execution_count": 116,
   "metadata": {},
   "outputs": [
    {
     "name": "stdout",
     "output_type": "stream",
     "text": [
      "총강아지는  2\n",
      "내 강아지는  3\n"
     ]
    }
   ],
   "source": [
    "hello=Dog('hello','black')\n",
    "hello.dogCount()"
   ]
  },
  {
   "cell_type": "code",
   "execution_count": 51,
   "metadata": {},
   "outputs": [
    {
     "name": "stdout",
     "output_type": "stream",
     "text": [
      "총 강아지는 2\n",
      "내 강아지는 1\n"
     ]
    }
   ],
   "source": [
    "happy=Dog('happy','black')\n",
    "happy.dogCount()\n"
   ]
  },
  {
   "cell_type": "code",
   "execution_count": 126,
   "metadata": {},
   "outputs": [],
   "source": [
    "class Car: \n",
    "    car_count=0   #변수 생성 초기값 0으로 설정\n",
    "    \n",
    "    def __init__(self,name,gas,year):   #init:객체 생성시 자동 호출함수, name,gas,year는 필수 입력 속성 \n",
    "        self.__name=name   #인스턴스 변수 비공개속성\n",
    "        self.__gas=gas     #비공개속성 gas로 초기화\n",
    "        self.__year=year    #비공개속성\n",
    "        Car.car_count+=1  #\n",
    "        \n",
    "        \n",
    "    def get_name(self):\n",
    "        print('차종은 {}입니다.'.format(self.__name))\n",
    "        \n",
    "    def change_name(self, new_name):\n",
    "        self.__name=new_name   #외부에서 변경은 안됨 \n",
    "        \n",
    "    def gas(self):\n",
    "        if self.__gas<1000:\n",
    "            print('소형')\n",
    "        elif 1000<=self.__gas<=2000:\n",
    "            print('중형')\n",
    "        else:\n",
    "            print('대형')\n",
    "            \n",
    "    @staticmethod       #정적 메서드인스턴스 속성, 메서드 접근 불가\n",
    "    def carCount():\n",
    "        print('총 등록된 자동차는',Car.car_count)   #__init__함수의 car_count 통해서 객체생성때마다 1증가"
   ]
  },
  {
   "cell_type": "code",
   "execution_count": 127,
   "metadata": {},
   "outputs": [
    {
     "name": "stdout",
     "output_type": "stream",
     "text": [
      "총 등록된 자동차는 5\n"
     ]
    }
   ],
   "source": [
    "ford=Car('제네시스',2000,1984)\n",
    "\n",
    "BMW=Car('x5',1000,2012)\n",
    "\n",
    "BMW=Car('x6',1000,2012)\n",
    "\n",
    "benz=Car('m',3000,2020)\n",
    "\n",
    "kia=Car('k5',2400,2017)\n",
    "\n",
    "BMW.carCount()"
   ]
  },
  {
   "cell_type": "code",
   "execution_count": 120,
   "metadata": {},
   "outputs": [
    {
     "name": "stdout",
     "output_type": "stream",
     "text": [
      "차종은 제네시스입니다.\n"
     ]
    }
   ],
   "source": [
    "ford.get_name() "
   ]
  },
  {
   "cell_type": "code",
   "execution_count": 181,
   "metadata": {},
   "outputs": [
    {
     "name": "stdout",
     "output_type": "stream",
     "text": [
      "차종은 셀토스입니다.\n"
     ]
    }
   ],
   "source": [
    "ford.change_name('셀토스')\n",
    "ford.get_name()"
   ]
  },
  {
   "cell_type": "code",
   "execution_count": 182,
   "metadata": {},
   "outputs": [
    {
     "name": "stdout",
     "output_type": "stream",
     "text": [
      "총 등록된 자동차는 4\n"
     ]
    }
   ],
   "source": [
    "Car.carCount()"
   ]
  },
  {
   "cell_type": "code",
   "execution_count": 183,
   "metadata": {},
   "outputs": [],
   "source": [
    "class Animal:\n",
    "    def __init__(self):   #self 인스턴스 __init__ 함수\n",
    "        self.hungry=0\n",
    "    \n",
    "    def eat(self):\n",
    "        self.hungry-=10\n",
    "        print('밥먹음',self.hungry)\n",
    "    \n",
    "    def walk(self):\n",
    "        self.hungry+=10\n",
    "        print('산책',self.hungry)\n",
    "    "
   ]
  },
  {
   "cell_type": "code",
   "execution_count": 184,
   "metadata": {},
   "outputs": [],
   "source": [
    "class Dog(Animal):\n",
    "    def __init__(self):\n",
    "        super().__init__()\n",
    "    def sound(self):\n",
    "        print('멍멍')"
   ]
  },
  {
   "cell_type": "code",
   "execution_count": 185,
   "metadata": {},
   "outputs": [],
   "source": [
    "class Cat(Animal):\n",
    "    def __init__(self):\n",
    "        super().__init__()\n",
    "    def sound(self):\n",
    "        print('야옹')"
   ]
  },
  {
   "cell_type": "code",
   "execution_count": 186,
   "metadata": {},
   "outputs": [
    {
     "name": "stdout",
     "output_type": "stream",
     "text": [
      "멍멍\n"
     ]
    }
   ],
   "source": [
    "dog=Dog()\n",
    "dog.sound()"
   ]
  },
  {
   "cell_type": "code",
   "execution_count": 188,
   "metadata": {},
   "outputs": [
    {
     "name": "stdout",
     "output_type": "stream",
     "text": [
      "산책 20\n"
     ]
    }
   ],
   "source": [
    "dog.walk()"
   ]
  },
  {
   "cell_type": "code",
   "execution_count": 191,
   "metadata": {},
   "outputs": [
    {
     "name": "stdout",
     "output_type": "stream",
     "text": [
      "야옹\n"
     ]
    }
   ],
   "source": [
    "cat=Cat()\n",
    "cat.sound()"
   ]
  },
  {
   "cell_type": "code",
   "execution_count": 196,
   "metadata": {},
   "outputs": [],
   "source": [
    "class Dog(Animal):\n",
    "    def __init__(self):\n",
    "        super().__init__()\n",
    "    def sound(self):\n",
    "        print('멍멍')\n",
    "    def eat(self):\n",
    "        super().eat()\n",
    "        print('왈왈')"
   ]
  },
  {
   "cell_type": "code",
   "execution_count": 197,
   "metadata": {},
   "outputs": [
    {
     "name": "stdout",
     "output_type": "stream",
     "text": [
      "밥먹음 -10\n",
      "왈왈\n"
     ]
    }
   ],
   "source": [
    "dog=Dog()\n",
    "dog.eat()"
   ]
  },
  {
   "cell_type": "code",
   "execution_count": 198,
   "metadata": {},
   "outputs": [],
   "source": [
    "class Dog(Animal):\n",
    "    def __init__(self):\n",
    "        super().__init__()\n",
    "    def sound(self):\n",
    "        print('멍멍')\n",
    "    def eat(self):\n",
    "        super().eat()\n",
    "        print('왈왈')"
   ]
  },
  {
   "cell_type": "code",
   "execution_count": 204,
   "metadata": {},
   "outputs": [
    {
     "name": "stdout",
     "output_type": "stream",
     "text": [
      "예외오류발생\n",
      "예외오류발생\n",
      "예외오류발생\n",
      "예외오류발생\n",
      "예외오류발생\n",
      "예외오류발생\n",
      "예외오류발생\n",
      "예외오류발생\n",
      "예외오류발생\n",
      "예외오류발생\n",
      "예외오류발생\n",
      "예외오류발생\n",
      "예외오류발생\n",
      "예외오류발생\n",
      "예외오류발생\n",
      "예외오류발생\n",
      "예외오류발생\n",
      "예외오류발생\n",
      "예외오류발생\n",
      "예외오류발생\n"
     ]
    }
   ],
   "source": [
    "for i in range(10,-10,-1):\n",
    "    try:\n",
    "        print(10/0)\n",
    "    except  ZeroDivisionError as e:\n",
    "        print(\"예외오류발생\")\n"
   ]
  },
  {
   "cell_type": "code",
   "execution_count": 129,
   "metadata": {},
   "outputs": [
    {
     "name": "stdout",
     "output_type": "stream",
     "text": [
      "예외오류발생\n",
      "예외오류발생\n",
      "예외오류발생\n",
      "예외오류발생\n",
      "예외오류발생\n",
      "예외오류발생\n",
      "예외오류발생\n",
      "예외오류발생\n",
      "예외오류발생\n",
      "예외오류발생\n",
      "예외오류발생\n",
      "예외오류발생\n",
      "예외오류발생\n",
      "예외오류발생\n",
      "예외오류발생\n",
      "예외오류발생\n",
      "예외오류발생\n",
      "예외오류발생\n",
      "예외오류발생\n",
      "예외오류발생\n"
     ]
    }
   ],
   "source": [
    "for i in range(10,-10,-1):\n",
    "    try:\n",
    "        print(i/0)\n",
    "    except ZeroDivisionError as e:\n",
    "        print('예외오류발생')"
   ]
  },
  {
   "cell_type": "code",
   "execution_count": 130,
   "metadata": {},
   "outputs": [
    {
     "name": "stdout",
     "output_type": "stream",
     "text": [
      "error: list index out of range\n"
     ]
    }
   ],
   "source": [
    "x=[1,2,3]\n",
    "try:\n",
    "    a=x[4]\n",
    "except Exception as e: \n",
    "    print('error:',e)\n"
   ]
  },
  {
   "cell_type": "code",
   "execution_count": null,
   "metadata": {},
   "outputs": [],
   "source": []
  },
  {
   "cell_type": "code",
   "execution_count": 234,
   "metadata": {},
   "outputs": [
    {
     "ename": "UnpicklingError",
     "evalue": "invalid load key, 'k'.",
     "output_type": "error",
     "traceback": [
      "\u001b[1;31m---------------------------------------------------------------------------\u001b[0m",
      "\u001b[1;31mUnpicklingError\u001b[0m                           Traceback (most recent call last)",
      "\u001b[1;32m<ipython-input-234-1b1a2d850f6c>\u001b[0m in \u001b[0;36m<module>\u001b[1;34m\u001b[0m\n\u001b[0;32m      2\u001b[0m \u001b[1;32mtry\u001b[0m\u001b[1;33m:\u001b[0m\u001b[1;33m\u001b[0m\u001b[1;33m\u001b[0m\u001b[0m\n\u001b[0;32m      3\u001b[0m     \u001b[0mfile\u001b[0m\u001b[1;33m=\u001b[0m\u001b[0mopen\u001b[0m\u001b[1;33m(\u001b[0m\u001b[1;34m\"data3.p\"\u001b[0m\u001b[1;33m,\u001b[0m\u001b[1;34m'rb'\u001b[0m\u001b[1;33m)\u001b[0m   \u001b[1;31m#파일 읽기모드\u001b[0m\u001b[1;33m\u001b[0m\u001b[1;33m\u001b[0m\u001b[0m\n\u001b[1;32m----> 4\u001b[1;33m     \u001b[0mname\u001b[0m\u001b[1;33m=\u001b[0m\u001b[0mpickle\u001b[0m\u001b[1;33m.\u001b[0m\u001b[0mload\u001b[0m\u001b[1;33m(\u001b[0m\u001b[0mfile\u001b[0m\u001b[1;33m)\u001b[0m    \u001b[1;31m#data.3파일에 name 읽기\u001b[0m\u001b[1;33m\u001b[0m\u001b[1;33m\u001b[0m\u001b[0m\n\u001b[0m\u001b[0;32m      5\u001b[0m     \u001b[0maddress\u001b[0m\u001b[1;33m=\u001b[0m\u001b[0mpickle\u001b[0m\u001b[1;33m.\u001b[0m\u001b[0mload\u001b[0m\u001b[1;33m(\u001b[0m\u001b[0mfile\u001b[0m\u001b[1;33m)\u001b[0m  \u001b[1;31m#data.3파일에 address 읽기\u001b[0m\u001b[1;33m\u001b[0m\u001b[1;33m\u001b[0m\u001b[0m\n\u001b[0;32m      6\u001b[0m     \u001b[0memail\u001b[0m\u001b[1;33m=\u001b[0m\u001b[0mpickle\u001b[0m\u001b[1;33m.\u001b[0m\u001b[0mload\u001b[0m\u001b[1;33m(\u001b[0m\u001b[0mfile\u001b[0m\u001b[1;33m)\u001b[0m     \u001b[1;31m#data.3파일에 email 읽기\u001b[0m\u001b[1;33m\u001b[0m\u001b[1;33m\u001b[0m\u001b[0m\n",
      "\u001b[1;31mUnpicklingError\u001b[0m: invalid load key, 'k'."
     ]
    }
   ],
   "source": [
    "import pickle\n",
    "try:\n",
    "    file=open(\"data3.p\",'rb')   #파일 읽기모드\n",
    "    name=pickle.load(file)    #data.3파일에 name 읽기\n",
    "    address=pickle.load(file)  #data.3파일에 address 읽기\n",
    "    email=pickle.load(file)     #data.3파일에 email 읽기\n",
    "    print(name,address,email) \n",
    "    \n",
    "except FileNotFoundError as F:   #파일이 없을경우 실행\n",
    "    file=open('data3.p','w')   #파일생성모드\n",
    "    data=input(\"name,adress,email: \")\n",
    "    file.write(data)   #데이터 내용 입력\n",
    "finally:\n",
    "    file.close() #파일 닫기"
   ]
  },
  {
   "cell_type": "code",
   "execution_count": 143,
   "metadata": {},
   "outputs": [
    {
     "name": "stdout",
     "output_type": "stream",
     "text": [
      "김 경기도 ㅇ\n"
     ]
    }
   ],
   "source": [
    "import pickle\n",
    "\n",
    "try:\n",
    "    \n",
    "    with open(\"data3.pkl\",'rb') as file:    #pickle 모듈을 이용하여 파일 불러오기\n",
    "        name=pickle.load(file)  #name,address, eamil만 불러오기\n",
    "        address=pickle.load(file)\n",
    "        email=pickle.load(file)\n",
    "        print(name,address,email)   \n",
    "        \n",
    "except FileNotFoundError as e:   \n",
    "    print(\"file이 존재하지않습니다\")\n",
    "    name=input('이름을 입력해주세요')    \n",
    "    address=input('주소를 입력해주세요')\n",
    "    email=input('이메일 을 입력해주세요')\n",
    "\n",
    "    with open('data3.pkl','wb') as file:   #pickle 모듈 이용하여 파일 저장하기\n",
    "        pickle.dump(name,file)   #name을 저장\n",
    "        pickle.dump(address,file)\n",
    "        pickle.dump(email,file)\n",
    "        print(\"파일이 생성되었습니다\")"
   ]
  },
  {
   "cell_type": "code",
   "execution_count": 4,
   "metadata": {},
   "outputs": [
    {
     "name": "stdout",
     "output_type": "stream",
     "text": [
      "q d s\n"
     ]
    }
   ],
   "source": [
    "import pickle   #pickle 모듈 불러옴 모듈이란 함수나 변수 또는 클래스를 모아 놓은 파일이다.\n",
    "\n",
    "try:\n",
    "    with open('data5.pkl','rb') as file: #파일 읽기모드\n",
    "        name=pickle.load(file)    #name, address, eamil 업로드\n",
    "        address=pickle.load(file)\n",
    "        email=pickle.load(file)\n",
    "        print(name,address,email)\n",
    "except FileNotFoundError as e:\n",
    "    with open('data5.pkl','wb') as file: #파일 생성 모드\n",
    "        \n",
    "        print('파일이 존재하지 않습니다.')  \n",
    "        name=input('이름을 입력하세요:')\n",
    "        address=input('주소를 입력하세요: ')\n",
    "        email=input('이메일을 입력하세요: ')\n",
    "        \n",
    "        pickle.dump(name,file)   #dump함수 이용하여 file에 데이터 저장\n",
    "        pickle.dump(address,file)\n",
    "        pickle.dump(email,file)\n",
    "        print('파일이 생성되었습니다')\n",
    "        "
   ]
  },
  {
   "cell_type": "code",
   "execution_count": null,
   "metadata": {},
   "outputs": [],
   "source": []
  },
  {
   "cell_type": "code",
   "execution_count": 6,
   "metadata": {},
   "outputs": [
    {
     "name": "stdout",
     "output_type": "stream",
     "text": [
      "11\n",
      "-1\n"
     ]
    }
   ],
   "source": [
    "import pkcalcfolder.calc as calc   #패키지 pkcalcfolder 안에 모듈 이름 calc\n",
    "print(calc.add(5,6))\n",
    "\n",
    "import pkcalcfolder.calc as calc\n",
    "print(calc.sub(5,6))"
   ]
  },
  {
   "cell_type": "code",
   "execution_count": 6,
   "metadata": {},
   "outputs": [
    {
     "name": "stdout",
     "output_type": "stream",
     "text": [
      "11\n"
     ]
    }
   ],
   "source": [
    "from pkcalcfolder.calc import add,sub\n",
    "print(add(5,6"
   ]
  },
  {
   "cell_type": "code",
   "execution_count": 7,
   "metadata": {},
   "outputs": [
    {
     "name": "stdout",
     "output_type": "stream",
     "text": [
      "['C:\\\\jupyter', 'C:\\\\ProgramData\\\\Anaconda3\\\\python38.zip', 'C:\\\\ProgramData\\\\Anaconda3\\\\DLLs', 'C:\\\\ProgramData\\\\Anaconda3\\\\lib', 'C:\\\\ProgramData\\\\Anaconda3', '', 'C:\\\\ProgramData\\\\Anaconda3\\\\lib\\\\site-packages', 'C:\\\\ProgramData\\\\Anaconda3\\\\lib\\\\site-packages\\\\win32', 'C:\\\\ProgramData\\\\Anaconda3\\\\lib\\\\site-packages\\\\win32\\\\lib', 'C:\\\\ProgramData\\\\Anaconda3\\\\lib\\\\site-packages\\\\Pythonwin', 'C:\\\\ProgramData\\\\Anaconda3\\\\lib\\\\site-packages\\\\IPython\\\\extensions', 'C:\\\\Users\\\\kimkwanghee\\\\.ipython']\n"
     ]
    }
   ],
   "source": [
    "import sys  #모듈과 패키지를 찾는 것 모듈은 변수, 함수, 클래스를  모아 둔 것 패키지는 모듈들을 모아둔 것\n",
    "print(sys.path)\n",
    "\n",
    "impr"
   ]
  },
  {
   "cell_type": "code",
   "execution_count": 10,
   "metadata": {},
   "outputs": [],
   "source": [
    "import pkcalcfolder"
   ]
  },
  {
   "cell_type": "code",
   "execution_count": 11,
   "metadata": {},
   "outputs": [
    {
     "name": "stdout",
     "output_type": "stream",
     "text": [
      "10\n"
     ]
    }
   ],
   "source": [
    "print(add(7,3))"
   ]
  },
  {
   "cell_type": "code",
   "execution_count": 9,
   "metadata": {},
   "outputs": [
    {
     "name": "stdout",
     "output_type": "stream",
     "text": [
      "5\n",
      "-3\n"
     ]
    }
   ],
   "source": [
    "def add(a,b):\n",
    "    return a+b\n",
    "def sub(a,b):\n",
    "    return a-b\n",
    "\n",
    "if __name__==\"__main__\": #다른 모듈에서 import 할 시 함수만 가져옴 print문 제외 \n",
    "    print(add(1,4))\n",
    "    print(sub(1,4))"
   ]
  },
  {
   "cell_type": "code",
   "execution_count": 16,
   "metadata": {},
   "outputs": [],
   "source": [
    "import numpy as np   #!pip install pandas  넘파이 패키지 가져옴"
   ]
  },
  {
   "cell_type": "code",
   "execution_count": 17,
   "metadata": {},
   "outputs": [],
   "source": [
    "import pandas as pd   "
   ]
  },
  {
   "cell_type": "code",
   "execution_count": 12,
   "metadata": {},
   "outputs": [],
   "source": [
    "matrix_1=[[1,2],[3,4]]#2차원 리스트\n",
    "matrix_2=[[5,6],[7,8]]"
   ]
  },
  {
   "cell_type": "code",
   "execution_count": 13,
   "metadata": {},
   "outputs": [
    {
     "name": "stdout",
     "output_type": "stream",
     "text": [
      "[[6, 8], [10, 12]]\n"
     ]
    }
   ],
   "source": [
    "matrix_3=[]\n",
    "for i in range(len(matrix_1)):   \n",
    "    a=[]\n",
    "    for j in range(len(matrix_1[i])):\n",
    "        a.append(matrix_1[i][j]+matrix_2[i][j])\n",
    "    matrix_3.append(a)\n",
    "print(matrix_3)"
   ]
  },
  {
   "cell_type": "code",
   "execution_count": 14,
   "metadata": {},
   "outputs": [
    {
     "name": "stdout",
     "output_type": "stream",
     "text": [
      "[[2, 3], [4, 5]]\n"
     ]
    }
   ],
   "source": [
    "matrix_4=[]\n",
    "for i in range(len(matrix_1)):\n",
    "    a=[]\n",
    "    for j in range(len(matrix_1[i])):\n",
    "        a.append(matrix_1[i][j]+1)\n",
    "    matrix_4.append(a)\n",
    "print(matrix_4)"
   ]
  },
  {
   "cell_type": "code",
   "execution_count": 55,
   "metadata": {},
   "outputs": [],
   "source": [
    "def matrix_sum(mat1,mat2):\n",
    "    for i in range(len(mat1)):\n",
    "        for j in range(len(mat1[0])):\n",
    "            mat1[i][j]+mat2[i][j]\n",
    "    return "
   ]
  },
  {
   "cell_type": "code",
   "execution_count": 19,
   "metadata": {},
   "outputs": [],
   "source": [
    "matrix_sum=np.array(matrix_1)+np.array(matrix_2)"
   ]
  },
  {
   "cell_type": "code",
   "execution_count": 20,
   "metadata": {},
   "outputs": [],
   "source": [
    "matrix_sum=np.array(matrix_1)+np.array(matrix_2)"
   ]
  },
  {
   "cell_type": "code",
   "execution_count": 21,
   "metadata": {},
   "outputs": [
    {
     "name": "stdout",
     "output_type": "stream",
     "text": [
      "[[ 6  8]\n",
      " [10 12]]\n"
     ]
    }
   ],
   "source": [
    "print(matrix_sum)"
   ]
  },
  {
   "cell_type": "code",
   "execution_count": 72,
   "metadata": {},
   "outputs": [
    {
     "data": {
      "text/plain": [
       "array([[2, 3],\n",
       "       [4, 5]])"
      ]
     },
     "execution_count": 72,
     "metadata": {},
     "output_type": "execute_result"
    }
   ],
   "source": [
    "mat_one_plus=np.array(matrix_1)+1\n",
    "mat_one_plus"
   ]
  },
  {
   "cell_type": "code",
   "execution_count": 23,
   "metadata": {},
   "outputs": [
    {
     "data": {
      "text/plain": [
       "array([[2, 3],\n",
       "       [4, 5]])"
      ]
     },
     "execution_count": 23,
     "metadata": {},
     "output_type": "execute_result"
    }
   ],
   "source": [
    "mat_one_plus=np.array(matrix_1)+1\n",
    "mat_one_plus"
   ]
  },
  {
   "cell_type": "code",
   "execution_count": 76,
   "metadata": {},
   "outputs": [],
   "source": [
    "import time   #시간을 가지고오는 패키지\n"
   ]
  },
  {
   "cell_type": "code",
   "execution_count": 79,
   "metadata": {},
   "outputs": [
    {
     "name": "stdout",
     "output_type": "stream",
     "text": [
      "리스트 걸린 시간: 0.3022022247314453\n"
     ]
    }
   ],
   "source": [
    "size=1000000\n",
    "x=list(range(size))\n",
    "y=list(range(size))\n",
    "\n",
    "start_time=time.time()\n",
    "\n",
    "z=[x[i]+x[i] for i in range(size)]\n",
    "print(f\"리스트 걸린 시간: {time.time()-start_time}\")\n"
   ]
  },
  {
   "cell_type": "code",
   "execution_count": 80,
   "metadata": {},
   "outputs": [
    {
     "name": "stdout",
     "output_type": "stream",
     "text": [
      "넘파이 걸린 시간: 0.03391385078430176\n"
     ]
    }
   ],
   "source": [
    "x=np.arange(size)\n",
    "y=np.arange(size)\n",
    "\n",
    "start_time=time.time()\n",
    "z=x+y\n",
    "print(f\"넘파이 걸린 시간: {time.time()-start_time}\")\n"
   ]
  },
  {
   "cell_type": "code",
   "execution_count": 26,
   "metadata": {},
   "outputs": [
    {
     "name": "stdout",
     "output_type": "stream",
     "text": [
      "uint32\n"
     ]
    }
   ],
   "source": [
    "x=np.uint(16)\n",
    "print(x.dtype)  # uint 32비트 자료형 양수만\n",
    "\n",
    "\n",
    "y=np.array([1,2,3,4])\n",
    "print(y.dtype)\n",
    "\n"
   ]
  },
  {
   "cell_type": "code",
   "execution_count": 27,
   "metadata": {},
   "outputs": [
    {
     "name": "stdout",
     "output_type": "stream",
     "text": [
      "(2,)\n"
     ]
    }
   ],
   "source": [
    "x=np.array([1,2])\n",
    "print(x.shape)\n",
    "      \n",
    "      "
   ]
  },
  {
   "cell_type": "code",
   "execution_count": 39,
   "metadata": {},
   "outputs": [
    {
     "name": "stdout",
     "output_type": "stream",
     "text": [
      "[[[ 0  1  2  3]\n",
      "  [ 4  5  6  7]\n",
      "  [ 8  9 10 11]]\n",
      "\n",
      " [[12 13 14 15]\n",
      "  [16 17 18 19]\n",
      "  [20 21 22 23]]]\n",
      "[0 1 2 3 4 5 6 7 8 9]\n",
      "[0. 1. 2. 3. 4. 5. 6. 7. 8. 9.]\n",
      "[1.  1.5 2.  2.5 3.  3.5 4.  4.5 5.  5.5 6.  6.5 7.  7.5 8.  8.5 9.  9.5]\n",
      "[10.   9.5  9.   8.5  8.   7.5  7.   6.5  6.   5.5  5.   4.5  4.   3.5\n",
      "  3.   2.5  2.   1.5]\n",
      "[ 1.   4.8  8.6 12.4 16.2]\n"
     ]
    }
   ],
   "source": [
    "\n",
    "\n",
    "x=np.arange(24).reshape(2,3,4)\n",
    "print(x)\n",
    "\n",
    "x=np.arange(10)\n",
    "print(x)\n",
    "\n",
    "\n",
    "x=np.arange(10.0)\n",
    "print(x)\n",
    "\n",
    "x=np.arange(1,10,0.5)\n",
    "print(x)\n",
    "\n",
    "x=np.arange(10,1,-0.5)\n",
    "print(x)\n",
    "\n",
    "x=np.linspace(1,20,5,endpoint=False)\n",
    "print(x)"
   ]
  },
  {
   "cell_type": "code",
   "execution_count": 93,
   "metadata": {},
   "outputs": [
    {
     "data": {
      "text/plain": [
       "array([[[[ 0,  1],\n",
       "         [ 2,  3]],\n",
       "\n",
       "        [[ 4,  5],\n",
       "         [ 6,  7]]],\n",
       "\n",
       "\n",
       "       [[[ 8,  9],\n",
       "         [10, 11]],\n",
       "\n",
       "        [[12, 13],\n",
       "         [14, 15]]]])"
      ]
     },
     "execution_count": 93,
     "metadata": {},
     "output_type": "execute_result"
    }
   ],
   "source": [
    "x=np.arange(16).reshape(2,2,2,2)\n",
    "x"
   ]
  },
  {
   "cell_type": "code",
   "execution_count": 53,
   "metadata": {},
   "outputs": [
    {
     "name": "stdout",
     "output_type": "stream",
     "text": [
      "[[1 2]\n",
      " [3 4]\n",
      " [5 6]] \n",
      "\n",
      "[[1 2 3]\n",
      " [4 5 6]] \n",
      "\n",
      "[[0 1 2]\n",
      " [3 4 5]\n",
      " [6 7 8]] \n",
      "\n",
      "[[[ 0  1  2  3]\n",
      "  [ 4  5  6  7]\n",
      "  [ 8  9 10 11]]\n",
      "\n",
      " [[12 13 14 15]\n",
      "  [16 17 18 19]\n",
      "  [20 21 22 23]]]\n",
      "[[[[ 0  1]\n",
      "   [ 2  3]]\n",
      "\n",
      "  [[ 4  5]\n",
      "   [ 6  7]]]\n",
      "\n",
      "\n",
      " [[[ 8  9]\n",
      "   [10 11]]\n",
      "\n",
      "  [[12 13]\n",
      "   [14 15]]]]\n",
      "[[1 2 3]\n",
      " [4 5 6]]\n",
      "[[0 1 2]\n",
      " [3 4 5]\n",
      " [6 7 8]]\n"
     ]
    }
   ],
   "source": [
    "x = np.array([[1,2],[3,4],[5,6]])\n",
    "print(x,'\\n')\n",
    "print(x.reshape(2,3),'\\n')\n",
    "\n",
    "x=np.arange(9).reshape(3,3)\n",
    "print(x,'\\n')\n",
    "\n",
    "x=np.arange(24).reshape(2,3,4)\n",
    "print(x)\n",
    "\n",
    "x=np.arange(16).reshape(2,2,2,2)\n",
    "print(x)\n",
    "\n",
    "x=np.array([[1,2],[3,4],[5,6]])\n",
    "print(x.reshape(2,3))\n",
    "\n",
    "x=np.arange(9).reshape(3,-1)\n",
    "print(x)"
   ]
  },
  {
   "cell_type": "code",
   "execution_count": 98,
   "metadata": {},
   "outputs": [
    {
     "name": "stdout",
     "output_type": "stream",
     "text": [
      "[[0 1 2]\n",
      " [3 4 5]\n",
      " [6 7 8]]\n"
     ]
    }
   ],
   "source": [
    "x=np.arange(9).reshape(3,-1)\n",
    "print(x)"
   ]
  },
  {
   "cell_type": "code",
   "execution_count": 54,
   "metadata": {},
   "outputs": [],
   "source": [
    "x=np.float32([1,2,3,4])\n",
    "np.array([1,2,3,4],dtype=np.float32)"
   ]
  },
  {
   "cell_type": "code",
   "execution_count": 104,
   "metadata": {},
   "outputs": [
    {
     "data": {
      "text/plain": [
       "array([1, 2, 3, 4])"
      ]
     },
     "execution_count": 104,
     "metadata": {},
     "output_type": "execute_result"
    }
   ],
   "source": [
    "np.int_([1,2,3,4])"
   ]
  },
  {
   "cell_type": "code",
   "execution_count": 105,
   "metadata": {},
   "outputs": [
    {
     "data": {
      "text/plain": [
       "array([1, 2, 3, 4])"
      ]
     },
     "execution_count": 105,
     "metadata": {},
     "output_type": "execute_result"
    }
   ],
   "source": [
    "np.int32(x)"
   ]
  },
  {
   "cell_type": "code",
   "execution_count": 106,
   "metadata": {},
   "outputs": [
    {
     "data": {
      "text/plain": [
       "dtype('float32')"
      ]
     },
     "execution_count": 106,
     "metadata": {},
     "output_type": "execute_result"
    }
   ],
   "source": [
    "x.dtype"
   ]
  },
  {
   "cell_type": "code",
   "execution_count": null,
   "metadata": {},
   "outputs": [],
   "source": [
    "np.issubtype(ndarray.dtpye)\n",
    "ndarray()"
   ]
  }
 ],
 "metadata": {
  "kernelspec": {
   "display_name": "Python 3",
   "language": "python",
   "name": "python3"
  },
  "language_info": {
   "codemirror_mode": {
    "name": "ipython",
    "version": 3
   },
   "file_extension": ".py",
   "mimetype": "text/x-python",
   "name": "python",
   "nbconvert_exporter": "python",
   "pygments_lexer": "ipython3",
   "version": "3.8.5"
  }
 },
 "nbformat": 4,
 "nbformat_minor": 4
}
