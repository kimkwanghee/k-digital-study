{
 "cells": [
  {
   "cell_type": "markdown",
   "metadata": {},
   "source": [
    "정규표현식 실습1번"
   ]
  },
  {
   "cell_type": "code",
   "execution_count": 2,
   "metadata": {},
   "outputs": [],
   "source": [
    "import re\n",
    "\n",
    "text='''\n",
    "전국 언론 노동자들이 시민사회단체와 함께 네이버의 지역 차별을 규탄하고 개선을 촉구하는 무기한 릴레이 시위에 돌입했다.\n",
    "\n",
    "전국언론노조와 전국 민주언론시민연합(민언련)은 1일 오전 11시 30분 경기도 성남시의 네이버 본사(그린팩토리) 앞에서 1인 시위를 시작했다. 이날 시위에는 오정훈 전국언론노동조합위원장, 전대식 지역신문노동조합협의회 의장(부산일보 지부장), 김명래 경인일보지부장, 민진영 경기민주언론시민연합 사무처장 등이 참여했다.\n",
    "\n",
    "이들은 1인 시위를 통해 ‘네이버 뉴스 서비스 지역 언론 배제 개선’을 요구하고 ‘지역 공론장 형성을 위한 네이버의 공적 책임’을 촉구했다. 전국언론노조와 민언련은 매주 월요일마다 네이버 본사 앞 시위를 진행할 예정이다.\n",
    "\n",
    "네이버는 최근 뉴스 서비스에 인공지능 에어스(AiRS) 알고리즘을 적용하는 방식으로 뉴스 편집 기능을 개편했다. 이후 지역 언론사 뉴스의 노출이 현격하게 줄어들었다. 아울러 100여 개 모바일 콘텐츠 제휴 언론사 중 독자가 구독을 선택할 수 있는 ‘채널’ 제휴사 44곳을 선정했는데 이 과정에서 지역 언론을 철저하게 배제했다. 이에 반발해 전국언론노조뿐 아니라 한국지방신문협회, 대한민국지방신문협의회 등 지역 신문 단체도 공동 성명을 발표하며 개선을 요구하고 나섰다. 전국시도의회의장협의회는 최근 총회에서 ‘네이버 지역 언론 배제 반대 성명’을 채택하기도 했다. 하지만 이 같은 반발에도 네이버는 뚜렷한 해결책을 내지 않고 있다.\n",
    "\n",
    "오정훈 위원장은 1인 시위에서 “네이버는 해결책을 내놓기는커녕 뉴스제휴평가위원회에만 책임을 떠넘기고 있다”며 “지역 언론 배제 문제의 해결을 위한 대화 요구에 즉각 응답해 뉴스 유통사업자로서의 사회적 역할을 수행해야 한다”고 촉구했다.\n",
    "\n",
    "전대식 의장은 “2005년 당시 네이버는 모든 언론사에 뉴스 유통망을 제공하는 우군이었지만 15년 만에 갑질하고 횡포하는 기업으로 전락했다”며 “지역 언론 종사자들이 만든 콘텐츠가 네이버에서 사라진 현실을 놓고 대화하고 상생적으로 풀어야 한다”면서 협의 창구 개설을 요구했다.\n",
    "\n",
    "민언련은 국내 1위 포털 네이버가 지역 공론장을 만드는 사회적 책임을 외면하는 것은 현 정부의 지방분권 강화 정책에 위배되는 것이라고 지적했다.\n",
    "\n",
    "민진영 사무처장은 “네이버가 지역신문에 대한 보도를 배제하고 시민들과의 소통 창구를 차단하는 것은 현 정부 정책인 지방분권 강화, 민주주의 정착이라는 큰 의제를 거역하는 것”이라며 “이런 행태는 반드시 중단돼야 하고 다양한 소식들이 소비자와 시민에게 전달돼야 한다”고 강조했다.\n",
    "\n",
    "출처 : 제주新보(http://www.jejunews.com)\n",
    "\n",
    "'''"
   ]
  },
  {
   "cell_type": "code",
   "execution_count": 19,
   "metadata": {},
   "outputs": [],
   "source": [
    "count=text.count('네이버')"
   ]
  },
  {
   "cell_type": "code",
   "execution_count": 20,
   "metadata": {},
   "outputs": [
    {
     "data": {
      "text/plain": [
       "13"
      ]
     },
     "execution_count": 20,
     "metadata": {},
     "output_type": "execute_result"
    }
   ],
   "source": [
    "count"
   ]
  },
  {
   "cell_type": "code",
   "execution_count": 21,
   "metadata": {},
   "outputs": [
    {
     "name": "stdout",
     "output_type": "stream",
     "text": [
      "['네이버', '네이버', '네이버', '네이버', '네이버', '네이버', '네이버', '네이버', '네이버', '네이버', '네이버', '네이버', '네이버']\n"
     ]
    }
   ],
   "source": [
    "import re\n",
    "\n",
    "count=re.findall('네이버',text)\n",
    "print(count)"
   ]
  },
  {
   "cell_type": "code",
   "execution_count": 22,
   "metadata": {},
   "outputs": [
    {
     "name": "stdout",
     "output_type": "stream",
     "text": [
      "13\n"
     ]
    }
   ],
   "source": [
    "print(len(count))"
   ]
  },
  {
   "cell_type": "code",
   "execution_count": 25,
   "metadata": {},
   "outputs": [
    {
     "data": {
      "text/plain": [
       "['i like', 'i like']"
      ]
     },
     "execution_count": 25,
     "metadata": {},
     "output_type": "execute_result"
    }
   ],
   "source": [
    "text='i like oragne! i like orange!'\n",
    "re.findall(r'i like',text)  #r은 모든 문자 포함 \\n과 같은 것을 해석 하지 않음"
   ]
  },
  {
   "cell_type": "code",
   "execution_count": 26,
   "metadata": {},
   "outputs": [
    {
     "data": {
      "text/plain": [
       "['i like']"
      ]
     },
     "execution_count": 26,
     "metadata": {},
     "output_type": "execute_result"
    }
   ],
   "source": [
    "re.findall(r'^i like',text) "
   ]
  },
  {
   "cell_type": "code",
   "execution_count": 27,
   "metadata": {},
   "outputs": [
    {
     "data": {
      "text/plain": [
       "['orange!']"
      ]
     },
     "execution_count": 27,
     "metadata": {},
     "output_type": "execute_result"
    }
   ],
   "source": [
    "re.findall(r'orange!$',text) "
   ]
  },
  {
   "cell_type": "code",
   "execution_count": 28,
   "metadata": {},
   "outputs": [],
   "source": [
    "text='i like oragne! 200$ l like orange! 200$'"
   ]
  },
  {
   "cell_type": "code",
   "execution_count": 29,
   "metadata": {},
   "outputs": [
    {
     "data": {
      "text/plain": [
       "['']"
      ]
     },
     "execution_count": 29,
     "metadata": {},
     "output_type": "execute_result"
    }
   ],
   "source": [
    "re.findall('$',text) #$는 "
   ]
  },
  {
   "cell_type": "code",
   "execution_count": 31,
   "metadata": {},
   "outputs": [
    {
     "data": {
      "text/plain": [
       "['$', '$']"
      ]
     },
     "execution_count": 31,
     "metadata": {},
     "output_type": "execute_result"
    }
   ],
   "source": [
    "re.findall('\\$',text)   "
   ]
  },
  {
   "cell_type": "code",
   "execution_count": 32,
   "metadata": {},
   "outputs": [
    {
     "data": {
      "text/plain": [
       "['i',\n",
       " ' ',\n",
       " 'l',\n",
       " 'i',\n",
       " 'k',\n",
       " 'e',\n",
       " ' ',\n",
       " 'o',\n",
       " 'r',\n",
       " 'a',\n",
       " 'g',\n",
       " 'n',\n",
       " 'e',\n",
       " '!',\n",
       " ' ',\n",
       " '2',\n",
       " '0',\n",
       " '0',\n",
       " '$',\n",
       " ' ',\n",
       " 'l',\n",
       " ' ',\n",
       " 'l',\n",
       " 'i',\n",
       " 'k',\n",
       " 'e',\n",
       " ' ',\n",
       " 'o',\n",
       " 'r',\n",
       " 'a',\n",
       " 'n',\n",
       " 'g',\n",
       " 'e',\n",
       " '!',\n",
       " ' ',\n",
       " '2',\n",
       " '0',\n",
       " '0',\n",
       " '$']"
      ]
     },
     "execution_count": 32,
     "metadata": {},
     "output_type": "execute_result"
    }
   ],
   "source": [
    "re.findall(r'.',text)  #모든 문자 추출 "
   ]
  },
  {
   "cell_type": "code",
   "execution_count": 33,
   "metadata": {},
   "outputs": [
    {
     "data": {
      "text/plain": [
       "['i li', 'ke o', 'ragn', 'e! 2', '00$ ', 'l li', 'ke o', 'rang', 'e! 2']"
      ]
     },
     "execution_count": 33,
     "metadata": {},
     "output_type": "execute_result"
    }
   ],
   "source": [
    "re.findall(r'....',text)  #문자열 길이를 4개씩 잘라서 추출 "
   ]
  },
  {
   "cell_type": "code",
   "execution_count": 35,
   "metadata": {},
   "outputs": [
    {
     "data": {
      "text/plain": [
       "['o', 'r', 'n', 'o', 'r', 'n']"
      ]
     },
     "execution_count": 35,
     "metadata": {},
     "output_type": "execute_result"
    }
   ],
   "source": [
    "re.findall(r'[orn]',text)"
   ]
  },
  {
   "cell_type": "code",
   "execution_count": 36,
   "metadata": {},
   "outputs": [
    {
     "data": {
      "text/plain": [
       "['ora', 'ora']"
      ]
     },
     "execution_count": 36,
     "metadata": {},
     "output_type": "execute_result"
    }
   ],
   "source": [
    "re.findall(r'[orn][orn].',text)    #[orn] orn 중 하나  [orn] orn 중 하나  . 은 아무거나"
   ]
  },
  {
   "cell_type": "code",
   "execution_count": 37,
   "metadata": {},
   "outputs": [
    {
     "data": {
      "text/plain": [
       "['2', '0', '0', '2', '0', '0']"
      ]
     },
     "execution_count": 37,
     "metadata": {},
     "output_type": "execute_result"
    }
   ],
   "source": [
    "re.findall(r'[0-9]',text)  "
   ]
  },
  {
   "cell_type": "code",
   "execution_count": 38,
   "metadata": {},
   "outputs": [
    {
     "data": {
      "text/plain": [
       "['i',\n",
       " 'l',\n",
       " 'i',\n",
       " 'k',\n",
       " 'e',\n",
       " 'o',\n",
       " 'r',\n",
       " 'a',\n",
       " 'g',\n",
       " 'n',\n",
       " 'e',\n",
       " 'l',\n",
       " 'l',\n",
       " 'i',\n",
       " 'k',\n",
       " 'e',\n",
       " 'o',\n",
       " 'r',\n",
       " 'a',\n",
       " 'n',\n",
       " 'g',\n",
       " 'e']"
      ]
     },
     "execution_count": 38,
     "metadata": {},
     "output_type": "execute_result"
    }
   ],
   "source": [
    "re.findall(r'[A-Za-z]',text)  "
   ]
  },
  {
   "cell_type": "code",
   "execution_count": 39,
   "metadata": {},
   "outputs": [
    {
     "data": {
      "text/plain": [
       "['i',\n",
       " 'l',\n",
       " 'i',\n",
       " 'k',\n",
       " 'e',\n",
       " 'o',\n",
       " 'r',\n",
       " 'a',\n",
       " 'g',\n",
       " 'n',\n",
       " 'e',\n",
       " 'l',\n",
       " 'l',\n",
       " 'i',\n",
       " 'k',\n",
       " 'e',\n",
       " 'o',\n",
       " 'r',\n",
       " 'a',\n",
       " 'n',\n",
       " 'g',\n",
       " 'e']"
      ]
     },
     "execution_count": 39,
     "metadata": {},
     "output_type": "execute_result"
    }
   ],
   "source": [
    "re.findall(r'[a-z]',text)"
   ]
  },
  {
   "cell_type": "code",
   "execution_count": 40,
   "metadata": {},
   "outputs": [
    {
     "data": {
      "text/plain": [
       "[]"
      ]
     },
     "execution_count": 40,
     "metadata": {},
     "output_type": "execute_result"
    }
   ],
   "source": [
    "re.findall(r'[A-Z]',text) #대문자 없음"
   ]
  },
  {
   "cell_type": "code",
   "execution_count": 41,
   "metadata": {},
   "outputs": [],
   "source": [
    "text='i like 오렌지! 200$ i like 오렌지! 200$'\n",
    "ㄱ"
   ]
  },
  {
   "cell_type": "code",
   "execution_count": 43,
   "metadata": {},
   "outputs": [
    {
     "data": {
      "text/plain": [
       "['오', '렌', '지', '오', '렌', '지']"
      ]
     },
     "execution_count": 43,
     "metadata": {},
     "output_type": "execute_result"
    }
   ],
   "source": [
    "re.findall(r'[가-힣]',text)"
   ]
  },
  {
   "cell_type": "code",
   "execution_count": 45,
   "metadata": {},
   "outputs": [
    {
     "data": {
      "text/plain": [
       "[' ',\n",
       " ' ',\n",
       " '오',\n",
       " '렌',\n",
       " '지',\n",
       " '!',\n",
       " ' ',\n",
       " '2',\n",
       " '0',\n",
       " '0',\n",
       " '$',\n",
       " ' ',\n",
       " ' ',\n",
       " ' ',\n",
       " '오',\n",
       " '렌',\n",
       " '지',\n",
       " '!',\n",
       " ' ',\n",
       " '2',\n",
       " '0',\n",
       " '0',\n",
       " '$']"
      ]
     },
     "execution_count": 45,
     "metadata": {},
     "output_type": "execute_result"
    }
   ],
   "source": [
    "re.findall(r'[^A-Za-z]',text)   #영문자 아닌것만 출력 "
   ]
  },
  {
   "cell_type": "code",
   "execution_count": 47,
   "metadata": {},
   "outputs": [
    {
     "data": {
      "text/plain": [
       "['orange', 'orange']"
      ]
     },
     "execution_count": 47,
     "metadata": {},
     "output_type": "execute_result"
    }
   ],
   "source": [
    "text='i like orange! 200$ i like orange! 200$'\n",
    "re.findall(r'(orange)',text)"
   ]
  },
  {
   "cell_type": "code",
   "execution_count": 48,
   "metadata": {},
   "outputs": [
    {
     "data": {
      "text/plain": [
       "['like', 'orange', 'like', 'orange']"
      ]
     },
     "execution_count": 48,
     "metadata": {},
     "output_type": "execute_result"
    }
   ],
   "source": [
    "re.findall(r'(orange|like)',text)"
   ]
  },
  {
   "cell_type": "code",
   "execution_count": 50,
   "metadata": {},
   "outputs": [],
   "source": [
    "text='i like orange! abc i like orange! ac'"
   ]
  },
  {
   "cell_type": "code",
   "execution_count": 53,
   "metadata": {},
   "outputs": [
    {
     "data": {
      "text/plain": [
       "['abc']"
      ]
     },
     "execution_count": 53,
     "metadata": {},
     "output_type": "execute_result"
    }
   ],
   "source": [
    "re.findall(r'a.c',text)   #앞글자 a 중간은 아무글자. 맨마지막은 c"
   ]
  },
  {
   "cell_type": "code",
   "execution_count": 54,
   "metadata": {},
   "outputs": [
    {
     "data": {
      "text/plain": [
       "['abc', 'ac']"
      ]
     },
     "execution_count": 54,
     "metadata": {},
     "output_type": "execute_result"
    }
   ],
   "source": [
    "re.findall(r'a.?c',text)  #?는 바로 앞문자를 지칭 즉 .을 지칭 즉 문자가 있거나 없거나 상관없음"
   ]
  },
  {
   "cell_type": "code",
   "execution_count": 56,
   "metadata": {},
   "outputs": [
    {
     "data": {
      "text/plain": [
       "['ang', 'ang', 'ng']"
      ]
     },
     "execution_count": 56,
     "metadata": {},
     "output_type": "execute_result"
    }
   ],
   "source": [
    "text='i like orange! abc i like orange! ac ng' \n",
    "re.findall(r'a?ng',text)"
   ]
  },
  {
   "cell_type": "code",
   "execution_count": 57,
   "metadata": {},
   "outputs": [
    {
     "data": {
      "text/plain": [
       "['ang', 'ang']"
      ]
     },
     "execution_count": 57,
     "metadata": {},
     "output_type": "execute_result"
    }
   ],
   "source": [
    "re.findall(r'ang',text)"
   ]
  },
  {
   "cell_type": "code",
   "execution_count": 59,
   "metadata": {},
   "outputs": [
    {
     "data": {
      "text/plain": [
       "['abc', 'ac', 'abbbc']"
      ]
     },
     "execution_count": 59,
     "metadata": {},
     "output_type": "execute_result"
    }
   ],
   "source": [
    "text='i like orange! abc i like orange! ac aabbbc ' \n",
    "re.findall(r'ab*c',text)  #b가 0개 이상"
   ]
  },
  {
   "cell_type": "code",
   "execution_count": 60,
   "metadata": {},
   "outputs": [
    {
     "data": {
      "text/plain": [
       "['abc', 'abbbc']"
      ]
     },
     "execution_count": 60,
     "metadata": {},
     "output_type": "execute_result"
    }
   ],
   "source": [
    "re.findall(r'ab+c',text)  #b가 1개 이상"
   ]
  },
  {
   "cell_type": "code",
   "execution_count": 62,
   "metadata": {},
   "outputs": [
    {
     "data": {
      "text/plain": [
       "['i', 'like', 'orange!', 'abc', 'i', 'like', 'orange!', 'ac', 'aabbbc', 'bc']"
      ]
     },
     "execution_count": 62,
     "metadata": {},
     "output_type": "execute_result"
    }
   ],
   "source": [
    "re.findall(r'[^ ]+',text)   #+1개 이상에 띄어쓰기 아닌 것 다 가져오는 것  "
   ]
  },
  {
   "cell_type": "code",
   "execution_count": 64,
   "metadata": {},
   "outputs": [
    {
     "data": {
      "text/plain": [
       "['abc', 'ac', 'abbbc', 'adbc']"
      ]
     },
     "execution_count": 64,
     "metadata": {},
     "output_type": "execute_result"
    }
   ],
   "source": [
    "text='i like orange! abc i like orange! ac aabbbc adbc ' \n",
    "re.findall(r'a[bd]*c',text)   #[]범위가 b나 d인것인데 *있어서 없어도 됨 "
   ]
  },
  {
   "cell_type": "code",
   "execution_count": 65,
   "metadata": {},
   "outputs": [
    {
     "data": {
      "text/plain": [
       "['i lik',\n",
       " 'e ora',\n",
       " 'nge! ',\n",
       " 'abc i',\n",
       " ' like',\n",
       " ' oran',\n",
       " 'ge! a',\n",
       " 'c aab',\n",
       " 'bbc a']"
      ]
     },
     "execution_count": 65,
     "metadata": {},
     "output_type": "execute_result"
    }
   ],
   "source": [
    "re.findall(r'.{5}',text)"
   ]
  },
  {
   "cell_type": "code",
   "execution_count": 66,
   "metadata": {},
   "outputs": [
    {
     "data": {
      "text/plain": [
       "['abc', 'abc', 'bab', 'abc', 'cab', 'cab']"
      ]
     },
     "execution_count": 66,
     "metadata": {},
     "output_type": "execute_result"
    }
   ],
   "source": [
    "text='abcc abc ab bab abccabcabd'\n",
    "re.findall(r'[abc]{3}',text)"
   ]
  },
  {
   "cell_type": "code",
   "execution_count": 67,
   "metadata": {},
   "outputs": [],
   "source": [
    "text='I like orange! 200$ I like orange! 200$'"
   ]
  },
  {
   "cell_type": "code",
   "execution_count": 69,
   "metadata": {},
   "outputs": [
    {
     "data": {
      "text/plain": [
       "['I',\n",
       " 'l',\n",
       " 'i',\n",
       " 'k',\n",
       " 'e',\n",
       " 'o',\n",
       " 'r',\n",
       " 'a',\n",
       " 'n',\n",
       " 'g',\n",
       " 'e',\n",
       " '2',\n",
       " '0',\n",
       " '0',\n",
       " 'I',\n",
       " 'l',\n",
       " 'i',\n",
       " 'k',\n",
       " 'e',\n",
       " 'o',\n",
       " 'r',\n",
       " 'a',\n",
       " 'n',\n",
       " 'g',\n",
       " 'e',\n",
       " '2',\n",
       " '0',\n",
       " '0']"
      ]
     },
     "execution_count": 69,
     "metadata": {},
     "output_type": "execute_result"
    }
   ],
   "source": [
    "re.findall(r'\\w',text)"
   ]
  },
  {
   "cell_type": "code",
   "execution_count": 70,
   "metadata": {},
   "outputs": [
    {
     "data": {
      "text/plain": [
       "[' ', ' ', '!', ' ', '$', ' ', ' ', ' ', '!', ' ', '$']"
      ]
     },
     "execution_count": 70,
     "metadata": {},
     "output_type": "execute_result"
    }
   ],
   "source": [
    "re.findall(r'\\W',text)"
   ]
  },
  {
   "cell_type": "code",
   "execution_count": 71,
   "metadata": {},
   "outputs": [
    {
     "data": {
      "text/plain": [
       "['2', '0', '0', '2', '0', '0']"
      ]
     },
     "execution_count": 71,
     "metadata": {},
     "output_type": "execute_result"
    }
   ],
   "source": [
    "re.findall(r'\\d',text)"
   ]
  },
  {
   "cell_type": "code",
   "execution_count": 79,
   "metadata": {},
   "outputs": [],
   "source": [
    " import re\n",
    "numbers = \"\"\"\n",
    "010-2334-3234\n",
    "02-302-3033\n",
    "010-1321-4043\n",
    "02-01-32\n",
    "33-3303-3033\n",
    "016-444-3042\n",
    "\"\"\""
   ]
  },
  {
   "cell_type": "code",
   "execution_count": null,
   "metadata": {},
   "outputs": [],
   "source": []
  },
  {
   "cell_type": "code",
   "execution_count": 97,
   "metadata": {},
   "outputs": [
    {
     "data": {
      "text/plain": [
       "['010-2334-3234', '010-1321-4043', '016-444-3042,']"
      ]
     },
     "execution_count": 97,
     "metadata": {},
     "output_type": "execute_result"
    }
   ],
   "source": [
    "re.findall(r'01[0-9]+..........',numbers)"
   ]
  },
  {
   "cell_type": "code",
   "execution_count": 102,
   "metadata": {},
   "outputs": [
    {
     "data": {
      "text/plain": [
       "['010-2334-3234', '010-1321-4043', '016-444-3042']"
      ]
     },
     "execution_count": 102,
     "metadata": {},
     "output_type": "execute_result"
    }
   ],
   "source": [
    "re.findall('\\d{3}-\\d{3,4}-\\d{4}',numbers)"
   ]
  },
  {
   "cell_type": "code",
   "execution_count": 106,
   "metadata": {},
   "outputs": [
    {
     "data": {
      "text/plain": [
       "<callable_iterator at 0x1f7d221d430>"
      ]
     },
     "execution_count": 106,
     "metadata": {},
     "output_type": "execute_result"
    }
   ],
   "source": [
    "results=re.finditer('\\d{3}-\\d{3,4}-\\d{4}',numbers)\n",
    "results   #반복할 수 있는 객체"
   ]
  },
  {
   "cell_type": "code",
   "execution_count": 104,
   "metadata": {},
   "outputs": [
    {
     "name": "stdout",
     "output_type": "stream",
     "text": [
      "1\n",
      "29\n",
      "68\n"
     ]
    }
   ],
   "source": [
    "for result in results:\n",
    "        print(result.start())     #객체만 나옴 "
   ]
  },
  {
   "cell_type": "code",
   "execution_count": 107,
   "metadata": {},
   "outputs": [
    {
     "name": "stdout",
     "output_type": "stream",
     "text": [
      "010-2334-3234\n",
      "010-1321-4043\n",
      "016-444-3042\n"
     ]
    }
   ],
   "source": [
    "for result in results:\n",
    "        print(result.group())   "
   ]
  },
  {
   "cell_type": "code",
   "execution_count": 117,
   "metadata": {},
   "outputs": [],
   "source": [
    "text='''\n",
    "[앵커]\n",
    "\n",
    "바로 좀 팩트체크를 해 보겠습니다. 제모를 하면 마약검사에서 빠져나갈 수 있다. 연예인 마약사건과 맞물려서 이런 글들이 온라인에서 확산됐습니다. 수사기법을 비웃는 듯한 내용입니다. 팩트체크팀이 국립과학수사연구원의 도움을 받아서 확인을 했습니다. 결론은 마약 성분은 체모 외에도 온몸을 흔적을 남긴다는 겁니다.\n",
    "오대영 기자 나와 있습니다. 구체적으로 어떤 글들이 퍼져 있습니까?\n",
    "\n",
    "[기자]\n",
    "\n",
    "전신 제모를 하면 문제가 없다. 염색, 탈색을 하면 된다. 눈썹은 검사해도 소용없다 등의 내용입니다.\n",
    "포털사이트에서 마약 검사라고 검색을 하면 모발 검사 안 걸리는 법이라는 연관 검색어까지 뜹니다.\n",
    "'''"
   ]
  },
  {
   "cell_type": "code",
   "execution_count": 119,
   "metadata": {},
   "outputs": [
    {
     "name": "stdout",
     "output_type": "stream",
     "text": [
      "\n",
      "앵커\n",
      "\n",
      "바로 좀 팩트체크를 해 보겠습니다 제모를 하면 마약검사에서 빠져나갈 수 있다 연예인 마약사건과 맞물려서 이런 글들이 온라인에서 확산됐습니다 수사기법을 비웃는 듯한 내용입니다 팩트체크팀이 국립과학수사연구원의 도움을 받아서 확인을 했습니다 결론은 마약 성분은 체모 외에도 온몸을 흔적을 남긴다는 겁니다\n",
      "오대영 기자 나와 있습니다 구체적으로 어떤 글들이 퍼져 있습니까\n",
      "\n",
      "기자\n",
      "\n",
      "전신 제모를 하면 문제가 없다 염색 탈색을 하면 된다 눈썹은 검사해도 소용없다 등의 내용입니다\n",
      "포털사이트에서 마약 검사라고 검색을 하면 모발 검사 안 걸리는 법이라는 연관 검색어까지 뜹니다\n",
      "\n"
     ]
    }
   ],
   "source": [
    "print(re.sub(r'[\\[\\]?.,]','',text))"
   ]
  },
  {
   "cell_type": "code",
   "execution_count": 129,
   "metadata": {},
   "outputs": [],
   "source": [
    "import re\n",
    "text='''\n",
    "jkilee@gmail.com\n",
    "kttredef@naver.com\n",
    "akdef!aa.com\n",
    "adekik@best.kr\n",
    "abkereff@aacde\n",
    "adefgree@korea.co.kr\n",
    "'''"
   ]
  },
  {
   "cell_type": "code",
   "execution_count": 165,
   "metadata": {},
   "outputs": [
    {
     "data": {
      "text/plain": [
       "['jkilee@gmail.com',\n",
       " 'kttredef@naver.com',\n",
       " 'adekik@best.kr',\n",
       " 'adefgree@korea.co.kr']"
      ]
     },
     "execution_count": 165,
     "metadata": {},
     "output_type": "execute_result"
    }
   ],
   "source": [
    "re.findall(r'[a-zA-Z]+@[a-zA-Z]+[.]+[a-zA-Z.]+',text)"
   ]
  },
  {
   "cell_type": "code",
   "execution_count": 185,
   "metadata": {},
   "outputs": [
    {
     "data": {
      "text/plain": [
       "'\\n안녕하세요 저는 홍길동 입니다. 나이는 24살 세계 최고의 데이터 분석가가 되고싶습니다.\\n'"
      ]
     },
     "execution_count": 185,
     "metadata": {},
     "output_type": "execute_result"
    }
   ],
   "source": [
    "text='''\n",
    "안녕하세요 저는 <em>홍길동</em> 입니다. 나이는 24살 세계 최고의 <a href=\"aa.aa.com\">데이터 분석가</a>가 되고싶습니다.\n",
    "'''\n",
    "\n",
    "text1=re.sub(r'<.+?>','',text)  #탐욕적 정규식을 lazy로 바꿔줌\n",
    "text1\n",
    "\n"
   ]
  },
  {
   "cell_type": "code",
   "execution_count": 179,
   "metadata": {},
   "outputs": [
    {
     "ename": "SyntaxError",
     "evalue": "EOL while scanning string literal (<ipython-input-179-96d6a39bf01f>, line 2)",
     "output_type": "error",
     "traceback": [
      "\u001b[1;36m  File \u001b[1;32m\"<ipython-input-179-96d6a39bf01f>\"\u001b[1;36m, line \u001b[1;32m2\u001b[0m\n\u001b[1;33m    re.match(r\"\\{\\S+}\\\",s)\u001b[0m\n\u001b[1;37m                          ^\u001b[0m\n\u001b[1;31mSyntaxError\u001b[0m\u001b[1;31m:\u001b[0m EOL while scanning string literal\n"
     ]
    }
   ],
   "source": [
    "s='{word}}'\n",
    "re.match(r\"\\{\\S+}\\\",s)"
   ]
  },
  {
   "cell_type": "code",
   "execution_count": 4,
   "metadata": {},
   "outputs": [
    {
     "data": {
      "text/plain": [
       "'\\n안녕하세요 저는 홍길동 입니다. 나이는 24살 세계 최고의 데이터 분석가가 되고싶습니다.\\n'"
      ]
     },
     "execution_count": 4,
     "metadata": {},
     "output_type": "execute_result"
    }
   ],
   "source": [
    "text='''\n",
    "안녕하세요 저는 <em>홍길동</em> 입니다. 나이는 24살 세계 최고의 <a href=\"aa.aa.com\">데이터 분석가</a>가 되고싶습니다.\n",
    "'''\n",
    "\n",
    "text1=re.sub(r'<[^<]+>','',text)\n",
    "text1"
   ]
  },
  {
   "cell_type": "code",
   "execution_count": null,
   "metadata": {},
   "outputs": [],
   "source": []
  }
 ],
 "metadata": {
  "kernelspec": {
   "display_name": "Python 3",
   "language": "python",
   "name": "python3"
  },
  "language_info": {
   "codemirror_mode": {
    "name": "ipython",
    "version": 3
   },
   "file_extension": ".py",
   "mimetype": "text/x-python",
   "name": "python",
   "nbconvert_exporter": "python",
   "pygments_lexer": "ipython3",
   "version": "3.8.5"
  }
 },
 "nbformat": 4,
 "nbformat_minor": 4
}
